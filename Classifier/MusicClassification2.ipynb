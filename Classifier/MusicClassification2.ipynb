{
 "cells": [
  {
   "cell_type": "code",
   "execution_count": null,
   "metadata": {},
   "outputs": [],
   "source": [
    "!wget http://dept-info.labri.fr/~hanna/Pub/features_adapte.csv\n",
    "!wget http://dept-info.labri.fr/~hanna/Pub/features_head.csv\n",
    "# !wget http://dept-info.labri.fr/~hanna/Pub/train_clean.csv\n",
    "# !wget http://dept-info.labri.fr/~hanna/Pub/test_clean.csv"
   ]
  },
  {
   "cell_type": "code",
   "execution_count": 1,
   "metadata": {},
   "outputs": [],
   "source": [
    "import numpy as np\n",
    "import pandas as pd\n",
    "import xgboost as xgb\n",
    "\n",
    "from sklearn.model_selection import train_test_split\n",
    "from sklearn import preprocessing\n",
    "from sklearn.metrics import classification_report\n",
    "from sklearn.neighbors import KNeighborsClassifier\n",
    "from sklearn.tree import DecisionTreeClassifier\n",
    "from sklearn.model_selection import GridSearchCV\n",
    "from sklearn.ensemble import RandomForestClassifier, GradientBoostingClassifier"
   ]
  },
  {
   "cell_type": "code",
   "execution_count": 2,
   "metadata": {},
   "outputs": [
    {
     "name": "stdout",
     "output_type": "stream",
     "text": [
      "Index(['feature', 'chroma_cens', 'chroma_cens.1', 'chroma_cens.2',\n",
      "       'chroma_cens.3', 'chroma_cens.4', 'chroma_cens.5', 'chroma_cens.6',\n",
      "       'chroma_cens.7', 'chroma_cens.8',\n",
      "       ...\n",
      "       'tonnetz.39', 'tonnetz.40', 'tonnetz.41', 'zcr', 'zcr.1', 'zcr.2',\n",
      "       'zcr.3', 'zcr.4', 'zcr.5', 'zcr.6'],\n",
      "      dtype='object', length=519)\n",
      "#################\n"
     ]
    },
    {
     "data": {
      "text/html": [
       "<div>\n",
       "<style scoped>\n",
       "    .dataframe tbody tr th:only-of-type {\n",
       "        vertical-align: middle;\n",
       "    }\n",
       "\n",
       "    .dataframe tbody tr th {\n",
       "        vertical-align: top;\n",
       "    }\n",
       "\n",
       "    .dataframe thead th {\n",
       "        text-align: right;\n",
       "    }\n",
       "</style>\n",
       "<table border=\"1\" class=\"dataframe\">\n",
       "  <thead>\n",
       "    <tr style=\"text-align: right;\">\n",
       "      <th></th>\n",
       "      <th>track_id</th>\n",
       "      <th>genre_id</th>\n",
       "      <th>01</th>\n",
       "      <th>02</th>\n",
       "      <th>03</th>\n",
       "      <th>04</th>\n",
       "      <th>05</th>\n",
       "      <th>06</th>\n",
       "      <th>07</th>\n",
       "      <th>08</th>\n",
       "      <th>...</th>\n",
       "      <th>04.41</th>\n",
       "      <th>05.41</th>\n",
       "      <th>06.41</th>\n",
       "      <th>01.70</th>\n",
       "      <th>01.71</th>\n",
       "      <th>01.72</th>\n",
       "      <th>01.73</th>\n",
       "      <th>01.74</th>\n",
       "      <th>01.75</th>\n",
       "      <th>01.76</th>\n",
       "    </tr>\n",
       "  </thead>\n",
       "  <tbody>\n",
       "    <tr>\n",
       "      <td>54</td>\n",
       "      <td>1682</td>\n",
       "      <td>5</td>\n",
       "      <td>-0.759522</td>\n",
       "      <td>-0.660455</td>\n",
       "      <td>-0.007256</td>\n",
       "      <td>-0.116650</td>\n",
       "      <td>-0.829314</td>\n",
       "      <td>-0.310002</td>\n",
       "      <td>-1.076483</td>\n",
       "      <td>-0.993827</td>\n",
       "      <td>...</td>\n",
       "      <td>0.115826</td>\n",
       "      <td>0.023135</td>\n",
       "      <td>0.022315</td>\n",
       "      <td>70.803398</td>\n",
       "      <td>0.741699</td>\n",
       "      <td>0.052991</td>\n",
       "      <td>0.046387</td>\n",
       "      <td>0.000000</td>\n",
       "      <td>6.811990</td>\n",
       "      <td>0.043964</td>\n",
       "    </tr>\n",
       "    <tr>\n",
       "      <td>2879</td>\n",
       "      <td>110761</td>\n",
       "      <td>4</td>\n",
       "      <td>-1.127796</td>\n",
       "      <td>-0.967607</td>\n",
       "      <td>0.212393</td>\n",
       "      <td>-0.962679</td>\n",
       "      <td>-0.652817</td>\n",
       "      <td>-0.841560</td>\n",
       "      <td>-0.425706</td>\n",
       "      <td>-0.806104</td>\n",
       "      <td>...</td>\n",
       "      <td>0.079879</td>\n",
       "      <td>0.024087</td>\n",
       "      <td>0.020425</td>\n",
       "      <td>5.799253</td>\n",
       "      <td>0.526855</td>\n",
       "      <td>0.055394</td>\n",
       "      <td>0.028320</td>\n",
       "      <td>0.000000</td>\n",
       "      <td>2.233683</td>\n",
       "      <td>0.070390</td>\n",
       "    </tr>\n",
       "    <tr>\n",
       "      <td>3804</td>\n",
       "      <td>145209</td>\n",
       "      <td>1</td>\n",
       "      <td>-0.790500</td>\n",
       "      <td>-0.611869</td>\n",
       "      <td>-0.613862</td>\n",
       "      <td>-0.269213</td>\n",
       "      <td>-0.463088</td>\n",
       "      <td>-0.523348</td>\n",
       "      <td>-0.413741</td>\n",
       "      <td>-0.925254</td>\n",
       "      <td>...</td>\n",
       "      <td>0.099218</td>\n",
       "      <td>0.022588</td>\n",
       "      <td>0.022188</td>\n",
       "      <td>1.715044</td>\n",
       "      <td>0.153809</td>\n",
       "      <td>0.041892</td>\n",
       "      <td>0.037109</td>\n",
       "      <td>0.002441</td>\n",
       "      <td>1.224427</td>\n",
       "      <td>0.022510</td>\n",
       "    </tr>\n",
       "    <tr>\n",
       "      <td>1475</td>\n",
       "      <td>55099</td>\n",
       "      <td>4</td>\n",
       "      <td>1.282881</td>\n",
       "      <td>0.631721</td>\n",
       "      <td>1.528502</td>\n",
       "      <td>-0.042285</td>\n",
       "      <td>0.054985</td>\n",
       "      <td>0.878764</td>\n",
       "      <td>0.775658</td>\n",
       "      <td>0.212126</td>\n",
       "      <td>...</td>\n",
       "      <td>0.057156</td>\n",
       "      <td>0.016998</td>\n",
       "      <td>0.018194</td>\n",
       "      <td>4.588485</td>\n",
       "      <td>0.469238</td>\n",
       "      <td>0.064075</td>\n",
       "      <td>0.034668</td>\n",
       "      <td>0.001953</td>\n",
       "      <td>2.009240</td>\n",
       "      <td>0.072844</td>\n",
       "    </tr>\n",
       "    <tr>\n",
       "      <td>25</td>\n",
       "      <td>821</td>\n",
       "      <td>7</td>\n",
       "      <td>-0.945239</td>\n",
       "      <td>1.634213</td>\n",
       "      <td>0.459780</td>\n",
       "      <td>1.814182</td>\n",
       "      <td>-0.651956</td>\n",
       "      <td>-0.775463</td>\n",
       "      <td>-0.404574</td>\n",
       "      <td>1.973060</td>\n",
       "      <td>...</td>\n",
       "      <td>0.140010</td>\n",
       "      <td>0.024466</td>\n",
       "      <td>0.027042</td>\n",
       "      <td>78.337555</td>\n",
       "      <td>0.763672</td>\n",
       "      <td>0.030665</td>\n",
       "      <td>0.014648</td>\n",
       "      <td>0.001465</td>\n",
       "      <td>7.906507</td>\n",
       "      <td>0.063550</td>\n",
       "    </tr>\n",
       "    <tr>\n",
       "      <td>2784</td>\n",
       "      <td>108059</td>\n",
       "      <td>6</td>\n",
       "      <td>-0.388243</td>\n",
       "      <td>-0.149367</td>\n",
       "      <td>0.007961</td>\n",
       "      <td>0.163642</td>\n",
       "      <td>-0.348244</td>\n",
       "      <td>0.013897</td>\n",
       "      <td>-0.704634</td>\n",
       "      <td>-0.722521</td>\n",
       "      <td>...</td>\n",
       "      <td>0.086807</td>\n",
       "      <td>0.021923</td>\n",
       "      <td>0.019604</td>\n",
       "      <td>8.106359</td>\n",
       "      <td>0.232422</td>\n",
       "      <td>0.056917</td>\n",
       "      <td>0.050781</td>\n",
       "      <td>0.000000</td>\n",
       "      <td>2.209893</td>\n",
       "      <td>0.031030</td>\n",
       "    </tr>\n",
       "    <tr>\n",
       "      <td>3353</td>\n",
       "      <td>127191</td>\n",
       "      <td>3</td>\n",
       "      <td>3.499011</td>\n",
       "      <td>-1.375531</td>\n",
       "      <td>-1.620836</td>\n",
       "      <td>-1.472571</td>\n",
       "      <td>3.564409</td>\n",
       "      <td>-0.680405</td>\n",
       "      <td>-1.222306</td>\n",
       "      <td>-0.844869</td>\n",
       "      <td>...</td>\n",
       "      <td>0.179666</td>\n",
       "      <td>0.029854</td>\n",
       "      <td>0.027233</td>\n",
       "      <td>32.134811</td>\n",
       "      <td>0.753418</td>\n",
       "      <td>0.041782</td>\n",
       "      <td>0.017090</td>\n",
       "      <td>0.001465</td>\n",
       "      <td>5.600079</td>\n",
       "      <td>0.106448</td>\n",
       "    </tr>\n",
       "    <tr>\n",
       "      <td>3174</td>\n",
       "      <td>121276</td>\n",
       "      <td>6</td>\n",
       "      <td>-0.298821</td>\n",
       "      <td>-0.791905</td>\n",
       "      <td>-0.577557</td>\n",
       "      <td>-0.290424</td>\n",
       "      <td>-0.103356</td>\n",
       "      <td>0.647770</td>\n",
       "      <td>-0.437137</td>\n",
       "      <td>-0.564280</td>\n",
       "      <td>...</td>\n",
       "      <td>0.080147</td>\n",
       "      <td>0.025150</td>\n",
       "      <td>0.025666</td>\n",
       "      <td>1.218696</td>\n",
       "      <td>0.214355</td>\n",
       "      <td>0.053546</td>\n",
       "      <td>0.047363</td>\n",
       "      <td>0.000000</td>\n",
       "      <td>0.937745</td>\n",
       "      <td>0.027033</td>\n",
       "    </tr>\n",
       "    <tr>\n",
       "      <td>342</td>\n",
       "      <td>12355</td>\n",
       "      <td>3</td>\n",
       "      <td>0.035939</td>\n",
       "      <td>-0.537234</td>\n",
       "      <td>-0.463681</td>\n",
       "      <td>-1.012958</td>\n",
       "      <td>0.085915</td>\n",
       "      <td>-0.734578</td>\n",
       "      <td>-0.789860</td>\n",
       "      <td>-0.793055</td>\n",
       "      <td>...</td>\n",
       "      <td>0.126793</td>\n",
       "      <td>0.028062</td>\n",
       "      <td>0.023247</td>\n",
       "      <td>39.044254</td>\n",
       "      <td>0.537598</td>\n",
       "      <td>0.038208</td>\n",
       "      <td>0.032227</td>\n",
       "      <td>0.000000</td>\n",
       "      <td>4.653836</td>\n",
       "      <td>0.028483</td>\n",
       "    </tr>\n",
       "    <tr>\n",
       "      <td>1762</td>\n",
       "      <td>63802</td>\n",
       "      <td>4</td>\n",
       "      <td>0.121118</td>\n",
       "      <td>-0.305045</td>\n",
       "      <td>-0.334666</td>\n",
       "      <td>0.751004</td>\n",
       "      <td>-1.091425</td>\n",
       "      <td>-1.204226</td>\n",
       "      <td>-1.108748</td>\n",
       "      <td>0.524335</td>\n",
       "      <td>...</td>\n",
       "      <td>0.050565</td>\n",
       "      <td>0.024549</td>\n",
       "      <td>0.014623</td>\n",
       "      <td>11.127469</td>\n",
       "      <td>0.403809</td>\n",
       "      <td>0.044436</td>\n",
       "      <td>0.037109</td>\n",
       "      <td>0.002441</td>\n",
       "      <td>2.244269</td>\n",
       "      <td>0.030539</td>\n",
       "    </tr>\n",
       "  </tbody>\n",
       "</table>\n",
       "<p>10 rows × 520 columns</p>\n",
       "</div>"
      ],
      "text/plain": [
       "      track_id  genre_id        01        02        03        04        05  \\\n",
       "54        1682         5 -0.759522 -0.660455 -0.007256 -0.116650 -0.829314   \n",
       "2879    110761         4 -1.127796 -0.967607  0.212393 -0.962679 -0.652817   \n",
       "3804    145209         1 -0.790500 -0.611869 -0.613862 -0.269213 -0.463088   \n",
       "1475     55099         4  1.282881  0.631721  1.528502 -0.042285  0.054985   \n",
       "25         821         7 -0.945239  1.634213  0.459780  1.814182 -0.651956   \n",
       "2784    108059         6 -0.388243 -0.149367  0.007961  0.163642 -0.348244   \n",
       "3353    127191         3  3.499011 -1.375531 -1.620836 -1.472571  3.564409   \n",
       "3174    121276         6 -0.298821 -0.791905 -0.577557 -0.290424 -0.103356   \n",
       "342      12355         3  0.035939 -0.537234 -0.463681 -1.012958  0.085915   \n",
       "1762     63802         4  0.121118 -0.305045 -0.334666  0.751004 -1.091425   \n",
       "\n",
       "            06        07        08  ...     04.41     05.41     06.41  \\\n",
       "54   -0.310002 -1.076483 -0.993827  ...  0.115826  0.023135  0.022315   \n",
       "2879 -0.841560 -0.425706 -0.806104  ...  0.079879  0.024087  0.020425   \n",
       "3804 -0.523348 -0.413741 -0.925254  ...  0.099218  0.022588  0.022188   \n",
       "1475  0.878764  0.775658  0.212126  ...  0.057156  0.016998  0.018194   \n",
       "25   -0.775463 -0.404574  1.973060  ...  0.140010  0.024466  0.027042   \n",
       "2784  0.013897 -0.704634 -0.722521  ...  0.086807  0.021923  0.019604   \n",
       "3353 -0.680405 -1.222306 -0.844869  ...  0.179666  0.029854  0.027233   \n",
       "3174  0.647770 -0.437137 -0.564280  ...  0.080147  0.025150  0.025666   \n",
       "342  -0.734578 -0.789860 -0.793055  ...  0.126793  0.028062  0.023247   \n",
       "1762 -1.204226 -1.108748  0.524335  ...  0.050565  0.024549  0.014623   \n",
       "\n",
       "          01.70     01.71     01.72     01.73     01.74     01.75     01.76  \n",
       "54    70.803398  0.741699  0.052991  0.046387  0.000000  6.811990  0.043964  \n",
       "2879   5.799253  0.526855  0.055394  0.028320  0.000000  2.233683  0.070390  \n",
       "3804   1.715044  0.153809  0.041892  0.037109  0.002441  1.224427  0.022510  \n",
       "1475   4.588485  0.469238  0.064075  0.034668  0.001953  2.009240  0.072844  \n",
       "25    78.337555  0.763672  0.030665  0.014648  0.001465  7.906507  0.063550  \n",
       "2784   8.106359  0.232422  0.056917  0.050781  0.000000  2.209893  0.031030  \n",
       "3353  32.134811  0.753418  0.041782  0.017090  0.001465  5.600079  0.106448  \n",
       "3174   1.218696  0.214355  0.053546  0.047363  0.000000  0.937745  0.027033  \n",
       "342   39.044254  0.537598  0.038208  0.032227  0.000000  4.653836  0.028483  \n",
       "1762  11.127469  0.403809  0.044436  0.037109  0.002441  2.244269  0.030539  \n",
       "\n",
       "[10 rows x 520 columns]"
      ]
     },
     "execution_count": 2,
     "metadata": {},
     "output_type": "execute_result"
    }
   ],
   "source": [
    "# Croisement features/tracks du dataset train\n",
    "\n",
    "# Nom des features\n",
    "features = pd.read_csv(filepath_or_buffer=\"features_head.csv\", sep=\",\")\n",
    "print(features.columns)\n",
    "#print(features)\n",
    "print(\"#################\")\n",
    "\n",
    "# Croisement features/tracks du dataset train\n",
    "traingenre = pd.read_csv(filepath_or_buffer=\"train_clean.csv\", sep=\",\")\n",
    "iter_csv = pd.read_csv(filepath_or_buffer=\"features_adapte.csv\", sep=\",\", iterator=True, chunksize=10000)\n",
    "datatrain = pd.concat([chunk for chunk in iter_csv])\n",
    "\n",
    "data = pd.merge(traingenre, datatrain, on='track_id')\n",
    "data.sample(n=10)"
   ]
  },
  {
   "cell_type": "code",
   "execution_count": 3,
   "metadata": {},
   "outputs": [
    {
     "name": "stdout",
     "output_type": "stream",
     "text": [
      "x : (3995, 518) , y : (3995,)\n"
     ]
    }
   ],
   "source": [
    "# training sets\n",
    "x = data.drop(['genre_id', 'track_id'], axis=1)\n",
    "y = data['genre_id'].values\n",
    "\n",
    "print(\"x :\", x.shape, \", y :\", y.shape)"
   ]
  },
  {
   "cell_type": "code",
   "execution_count": 4,
   "metadata": {},
   "outputs": [
    {
     "name": "stdout",
     "output_type": "stream",
     "text": [
      "x_train : (3196, 518) , y_train : (3196,)\n",
      "x_test : (799, 518) , y_test : (799,)\n"
     ]
    }
   ],
   "source": [
    "# split train test\n",
    "x_train, x_test, y_train, y_test = train_test_split(x, y, test_size=0.2)\n",
    "\n",
    "print(\"x_train :\", x_train.shape, \", y_train :\", y_train.shape)\n",
    "print(\"x_test :\", x_test.shape, \", y_test :\", y_test.shape)"
   ]
  },
  {
   "cell_type": "code",
   "execution_count": 5,
   "metadata": {},
   "outputs": [
    {
     "name": "stdout",
     "output_type": "stream",
     "text": [
      "mean_train: 3.4462134719471516e-17. std_train: 0.9951620422561797\n"
     ]
    }
   ],
   "source": [
    "# normalisation\n",
    "scaler = preprocessing.StandardScaler().fit(x_train)\n",
    "x_train = scaler.transform(x_train)\n",
    "x_test = scaler.transform(x_test)\n",
    "\n",
    "mean_train = x_train.mean()\n",
    "std_train = x_train.std()\n",
    "print(f'mean_train: {mean_train}. std_train: {std_train}')"
   ]
  },
  {
   "cell_type": "markdown",
   "metadata": {},
   "source": [
    "## Premier modèle : K nearest neighbors"
   ]
  },
  {
   "cell_type": "code",
   "execution_count": 6,
   "metadata": {},
   "outputs": [
    {
     "data": {
      "text/plain": [
       "KNeighborsClassifier(algorithm='auto', leaf_size=30, metric='minkowski',\n",
       "                     metric_params=None, n_jobs=None, n_neighbors=1, p=2,\n",
       "                     weights='uniform')"
      ]
     },
     "execution_count": 6,
     "metadata": {},
     "output_type": "execute_result"
    }
   ],
   "source": [
    "knn_model = KNeighborsClassifier(n_neighbors=1)\n",
    "knn_model.fit(x_train, y_train)"
   ]
  },
  {
   "cell_type": "code",
   "execution_count": 7,
   "metadata": {},
   "outputs": [
    {
     "name": "stdout",
     "output_type": "stream",
     "text": [
      "              precision    recall  f1-score   support\n",
      "\n",
      "           1       0.82      0.84      0.83        95\n",
      "           2       0.48      0.19      0.27       109\n",
      "           3       0.50      0.61      0.55        89\n",
      "           4       0.44      0.43      0.43       101\n",
      "           5       0.36      0.59      0.45        99\n",
      "           6       0.47      0.22      0.30       116\n",
      "           7       0.30      0.36      0.33       107\n",
      "           8       0.39      0.52      0.44        83\n",
      "\n",
      "    accuracy                           0.45       799\n",
      "   macro avg       0.47      0.47      0.45       799\n",
      "weighted avg       0.47      0.45      0.44       799\n",
      "\n"
     ]
    }
   ],
   "source": [
    "y_pred = knn_model.predict(x_test)\n",
    "print(classification_report(y_test,y_pred))"
   ]
  },
  {
   "cell_type": "markdown",
   "metadata": {},
   "source": [
    "## Deuxième modèle : Decision Tree"
   ]
  },
  {
   "cell_type": "code",
   "execution_count": 8,
   "metadata": {},
   "outputs": [
    {
     "data": {
      "text/plain": [
       "DecisionTreeClassifier(class_weight=None, criterion='gini', max_depth=None,\n",
       "                       max_features=None, max_leaf_nodes=16,\n",
       "                       min_impurity_decrease=0.0, min_impurity_split=None,\n",
       "                       min_samples_leaf=1, min_samples_split=2,\n",
       "                       min_weight_fraction_leaf=0.0, presort=False,\n",
       "                       random_state=None, splitter='best')"
      ]
     },
     "execution_count": 8,
     "metadata": {},
     "output_type": "execute_result"
    }
   ],
   "source": [
    "tree_model = DecisionTreeClassifier(max_leaf_nodes=16, min_samples_split=2)\n",
    "tree_model.fit(x_train, y_train)"
   ]
  },
  {
   "cell_type": "code",
   "execution_count": 9,
   "metadata": {},
   "outputs": [
    {
     "name": "stdout",
     "output_type": "stream",
     "text": [
      "              precision    recall  f1-score   support\n",
      "\n",
      "           1       0.76      0.55      0.64        95\n",
      "           2       0.38      0.18      0.25       109\n",
      "           3       0.42      0.49      0.45        89\n",
      "           4       0.44      0.38      0.41       101\n",
      "           5       0.30      0.26      0.28        99\n",
      "           6       0.28      0.34      0.30       116\n",
      "           7       0.19      0.32      0.24       107\n",
      "           8       0.45      0.45      0.45        83\n",
      "\n",
      "    accuracy                           0.36       799\n",
      "   macro avg       0.40      0.37      0.38       799\n",
      "weighted avg       0.39      0.36      0.37       799\n",
      "\n"
     ]
    }
   ],
   "source": [
    "y_pred = tree_model.predict(x_test)\n",
    "print(classification_report(y_test,y_pred))"
   ]
  },
  {
   "cell_type": "code",
   "execution_count": 10,
   "metadata": {},
   "outputs": [],
   "source": [
    "# Attention !!! Prend beaucoup de temps d'execution. Valeurs trouvée déjà utilisées précédemment.\n",
    "# Trouvé : max_leaf_nodes = 16 et min_samples_split = 2\n",
    "\n",
    "# optimization\n",
    "# parameters = {'max_leaf_nodes':[x for x in range(2, 20)], 'min_samples_split':[y for y in range(2, 20)]} \n",
    "\n",
    "# grid_search_cv = GridSearchCV(DecisionTreeClassifier(), parameters, scoring='accuracy')\n",
    "# grid_search_cv.fit(x_train, y_train)\n",
    "# grid_search_cv.best_estimator_"
   ]
  },
  {
   "cell_type": "code",
   "execution_count": 11,
   "metadata": {},
   "outputs": [],
   "source": [
    "# y_pred = grid_search_cv.predict(x_test)\n",
    "# print(classification_report(y_test,y_pred))"
   ]
  },
  {
   "cell_type": "markdown",
   "metadata": {},
   "source": [
    "## Troisième modèle : Random Forest"
   ]
  },
  {
   "cell_type": "code",
   "execution_count": 12,
   "metadata": {},
   "outputs": [
    {
     "name": "stderr",
     "output_type": "stream",
     "text": [
      "/home/janerussel/anaconda3/envs/IA/lib/python3.7/site-packages/sklearn/ensemble/forest.py:245: FutureWarning: The default value of n_estimators will change from 10 in version 0.20 to 100 in 0.22.\n",
      "  \"10 in version 0.20 to 100 in 0.22.\", FutureWarning)\n"
     ]
    },
    {
     "data": {
      "text/plain": [
       "RandomForestClassifier(bootstrap=True, class_weight=None, criterion='gini',\n",
       "                       max_depth=None, max_features='auto', max_leaf_nodes=16,\n",
       "                       min_impurity_decrease=0.0, min_impurity_split=None,\n",
       "                       min_samples_leaf=1, min_samples_split=2,\n",
       "                       min_weight_fraction_leaf=0.0, n_estimators=10,\n",
       "                       n_jobs=None, oob_score=False, random_state=None,\n",
       "                       verbose=0, warm_start=False)"
      ]
     },
     "execution_count": 12,
     "metadata": {},
     "output_type": "execute_result"
    }
   ],
   "source": [
    "forest_model = RandomForestClassifier(max_leaf_nodes=16, min_samples_split=2)\n",
    "forest_model.fit(x_train, y_train)"
   ]
  },
  {
   "cell_type": "code",
   "execution_count": 13,
   "metadata": {},
   "outputs": [
    {
     "name": "stdout",
     "output_type": "stream",
     "text": [
      "              precision    recall  f1-score   support\n",
      "\n",
      "           1       0.61      0.80      0.69        95\n",
      "           2       0.44      0.29      0.35       109\n",
      "           3       0.44      0.65      0.52        89\n",
      "           4       0.39      0.62      0.48       101\n",
      "           5       0.39      0.43      0.41        99\n",
      "           6       0.63      0.21      0.31       116\n",
      "           7       0.43      0.06      0.10       107\n",
      "           8       0.40      0.70      0.51        83\n",
      "\n",
      "    accuracy                           0.45       799\n",
      "   macro avg       0.47      0.47      0.42       799\n",
      "weighted avg       0.47      0.45      0.41       799\n",
      "\n"
     ]
    }
   ],
   "source": [
    "y_pred = forest_model.predict(x_test)\n",
    "print(classification_report(y_test,y_pred))"
   ]
  },
  {
   "cell_type": "markdown",
   "metadata": {},
   "source": [
    "## Quatrième méthode : Gradient Boosting"
   ]
  },
  {
   "cell_type": "code",
   "execution_count": 14,
   "metadata": {},
   "outputs": [
    {
     "data": {
      "text/plain": [
       "GradientBoostingClassifier(criterion='friedman_mse', init=None,\n",
       "                           learning_rate=0.1, loss='deviance', max_depth=3,\n",
       "                           max_features=None, max_leaf_nodes=None,\n",
       "                           min_impurity_decrease=0.0, min_impurity_split=None,\n",
       "                           min_samples_leaf=1, min_samples_split=2,\n",
       "                           min_weight_fraction_leaf=0.0, n_estimators=100,\n",
       "                           n_iter_no_change=None, presort='auto',\n",
       "                           random_state=None, subsample=1.0, tol=0.0001,\n",
       "                           validation_fraction=0.1, verbose=0,\n",
       "                           warm_start=False)"
      ]
     },
     "execution_count": 14,
     "metadata": {},
     "output_type": "execute_result"
    }
   ],
   "source": [
    "gradient_model = GradientBoostingClassifier()\n",
    "gradient_model.fit(x_train, y_train)"
   ]
  },
  {
   "cell_type": "code",
   "execution_count": 15,
   "metadata": {},
   "outputs": [
    {
     "name": "stdout",
     "output_type": "stream",
     "text": [
      "              precision    recall  f1-score   support\n",
      "\n",
      "           1       0.83      0.84      0.84        95\n",
      "           2       0.50      0.47      0.48       109\n",
      "           3       0.59      0.69      0.64        89\n",
      "           4       0.62      0.62      0.62       101\n",
      "           5       0.66      0.58      0.62        99\n",
      "           6       0.57      0.46      0.51       116\n",
      "           7       0.33      0.37      0.35       107\n",
      "           8       0.56      0.66      0.61        83\n",
      "\n",
      "    accuracy                           0.58       799\n",
      "   macro avg       0.58      0.59      0.58       799\n",
      "weighted avg       0.58      0.58      0.58       799\n",
      "\n"
     ]
    }
   ],
   "source": [
    "y_pred = gradient_model.predict(x_test)\n",
    "print(classification_report(y_test,y_pred))"
   ]
  },
  {
   "cell_type": "markdown",
   "metadata": {},
   "source": [
    "## Cinquième méthode : XGBoost"
   ]
  },
  {
   "cell_type": "code",
   "execution_count": 16,
   "metadata": {},
   "outputs": [
    {
     "data": {
      "text/plain": [
       "XGBClassifier(base_score=0.5, booster='gbtree', colsample_bylevel=1,\n",
       "              colsample_bynode=1, colsample_bytree=1, gamma=0,\n",
       "              learning_rate=0.1, max_delta_step=0, max_depth=3,\n",
       "              min_child_weight=1, missing=None, n_estimators=100, n_jobs=1,\n",
       "              nthread=None, objective='multi:softprob', random_state=0,\n",
       "              reg_alpha=0, reg_lambda=1, scale_pos_weight=1, seed=None,\n",
       "              silent=None, subsample=1, verbosity=1)"
      ]
     },
     "execution_count": 16,
     "metadata": {},
     "output_type": "execute_result"
    }
   ],
   "source": [
    "xgb_model = xgb.XGBClassifier()\n",
    "xgb_model.fit(x_train, y_train)"
   ]
  },
  {
   "cell_type": "code",
   "execution_count": 17,
   "metadata": {},
   "outputs": [
    {
     "name": "stdout",
     "output_type": "stream",
     "text": [
      "              precision    recall  f1-score   support\n",
      "\n",
      "           1       0.84      0.89      0.87        95\n",
      "           2       0.48      0.50      0.49       109\n",
      "           3       0.63      0.70      0.66        89\n",
      "           4       0.60      0.63      0.62       101\n",
      "           5       0.59      0.52      0.55        99\n",
      "           6       0.56      0.42      0.48       116\n",
      "           7       0.36      0.35      0.35       107\n",
      "           8       0.50      0.64      0.56        83\n",
      "\n",
      "    accuracy                           0.57       799\n",
      "   macro avg       0.57      0.58      0.57       799\n",
      "weighted avg       0.57      0.57      0.57       799\n",
      "\n"
     ]
    }
   ],
   "source": [
    "y_pred = xgb_model.predict(x_test)\n",
    "print(classification_report(y_test,y_pred))"
   ]
  },
  {
   "cell_type": "markdown",
   "metadata": {},
   "source": [
    "## Tuning XGBoost"
   ]
  },
  {
   "cell_type": "code",
   "execution_count": 18,
   "metadata": {},
   "outputs": [],
   "source": [
    "# params = {\n",
    "#     # Parameters that we are going to tune.\n",
    "#     'max_depth':6,\n",
    "#     'min_child_weight': 1,\n",
    "#     'eta':.3\n",
    "# }\n",
    "\n",
    "# params['eval_metric'] = \"mae\"\n",
    "# num_boost_round = 999\n",
    "\n",
    "# model = xgb.train(\n",
    "#     params,\n",
    "#     x_train,\n",
    "#     num_boost_round=num_boost_round,\n",
    "#     evals=[(y_train, \"Test\")],\n",
    "#     early_stopping_rounds=10\n",
    "# )\n",
    "\n",
    "# xgb_model = xgb.XGBClassifier()\n",
    "# xgb_model.fit(x_train, y_train)"
   ]
  },
  {
   "cell_type": "code",
   "execution_count": 19,
   "metadata": {},
   "outputs": [],
   "source": [
    "# parameters = {'n_estimators':[n for n in range(100, 200, 10)], 'learning_rate':[x/100 for x in range(5, 30)], 'max_depth':[y for y in range(3, 10)], 'min_child_weight':[z for z in range(1, 6)]} \n",
    "# grid_search_cv = GridSearchCV(xgb.XGBClassifier(), parameters, scoring='accuracy')\n",
    "# grid_search_cv.fit(x_train, y_train)\n",
    "# grid_search_cv.best_estimator_"
   ]
  },
  {
   "cell_type": "code",
   "execution_count": 20,
   "metadata": {},
   "outputs": [
    {
     "data": {
      "text/plain": [
       "XGBClassifier(base_score=0.5, booster='gbtree', colsample_bylevel=1,\n",
       "              colsample_bynode=1, colsample_bytree=1, gamma=0,\n",
       "              learning_rate=0.2, max_delta_step=0, max_depth=3,\n",
       "              min_child_weight=1, missing=None, n_estimators=200, n_jobs=1,\n",
       "              nthread=None, objective='multi:softprob', random_state=0,\n",
       "              reg_alpha=0, reg_lambda=1, scale_pos_weight=1, seed=None,\n",
       "              silent=None, subsample=1, verbosity=1)"
      ]
     },
     "execution_count": 20,
     "metadata": {},
     "output_type": "execute_result"
    }
   ],
   "source": [
    "xgb_model = xgb.XGBClassifier(n_estimators=200, learning_rate=0.2, max_depth=3, min_child_weight=1)\n",
    "xgb_model.fit(x_train, y_train)"
   ]
  },
  {
   "cell_type": "code",
   "execution_count": 21,
   "metadata": {},
   "outputs": [
    {
     "name": "stdout",
     "output_type": "stream",
     "text": [
      "              precision    recall  f1-score   support\n",
      "\n",
      "           1       0.88      0.88      0.88        95\n",
      "           2       0.49      0.51      0.50       109\n",
      "           3       0.61      0.75      0.68        89\n",
      "           4       0.65      0.61      0.63       101\n",
      "           5       0.63      0.48      0.55        99\n",
      "           6       0.59      0.47      0.52       116\n",
      "           7       0.37      0.38      0.37       107\n",
      "           8       0.52      0.65      0.58        83\n",
      "\n",
      "    accuracy                           0.58       799\n",
      "   macro avg       0.59      0.59      0.59       799\n",
      "weighted avg       0.59      0.58      0.58       799\n",
      "\n"
     ]
    }
   ],
   "source": [
    "y_pred = xgb_model.predict(x_test)\n",
    "print(classification_report(y_test,y_pred))"
   ]
  },
  {
   "cell_type": "code",
   "execution_count": 22,
   "metadata": {},
   "outputs": [],
   "source": [
    "# n_estimators=150, learning_rate=0.2, max_depth=3, min_child_weight=1  --------> 0.58\n",
    "# n_estimators=150, learning_rate=0.2, max_depth=5, min_child_weight=1  --------> 0.58\n",
    "# n_estimators=180, learning_rate=0.2, max_depth=5, min_child_weight=3  --------> 0.59\n",
    "# n_estimators=180, learning_rate=0.25, max_depth=5, min_child_weight=3  -------> 0.58\n",
    "# n_estimators=170, learning_rate=0.2, max_depth=7, min_child_weight=3  --------> 0.58\n",
    "# n_estimators=180, learning_rate=0.15, max_depth=5, min_child_weight=3  -------> 0.58\n",
    "# n_estimators=200, learning_rate=0.1, max_depth=5, min_child_weight=3  --------> 0.58\n",
    "# n_estimators=200, learning_rate=0.2, max_depth=3, min_child_weight=1  --------> 0.59"
   ]
  }
 ],
 "metadata": {
  "kernelspec": {
   "display_name": "Python 3",
   "language": "python",
   "name": "python3"
  },
  "language_info": {
   "codemirror_mode": {
    "name": "ipython",
    "version": 3
   },
   "file_extension": ".py",
   "mimetype": "text/x-python",
   "name": "python",
   "nbconvert_exporter": "python",
   "pygments_lexer": "ipython3",
   "version": "3.7.4"
  }
 },
 "nbformat": 4,
 "nbformat_minor": 2
}
