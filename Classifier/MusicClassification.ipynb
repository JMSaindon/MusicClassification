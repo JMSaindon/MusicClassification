{
 "cells": [
  {
   "cell_type": "code",
   "execution_count": 1,
   "metadata": {},
   "outputs": [],
   "source": [
    "import numpy as np\n",
    "import pandas as pd\n",
    "import xgboost as xgb\n",
    "\n",
    "from sklearn.model_selection import train_test_split\n",
    "from sklearn import preprocessing\n",
    "from sklearn.metrics import classification_report\n",
    "from sklearn.neighbors import KNeighborsClassifier\n",
    "from sklearn.tree import DecisionTreeClassifier\n",
    "from sklearn.model_selection import GridSearchCV\n",
    "from sklearn.ensemble import RandomForestClassifier, GradientBoostingClassifier"
   ]
  },
  {
   "cell_type": "code",
   "execution_count": 2,
   "metadata": {},
   "outputs": [
    {
     "name": "stdout",
     "output_type": "stream",
     "text": [
      "data merged : (3995, 541) , train genre : (3995, 2) , train data : (3997, 540)\n"
     ]
    },
    {
     "data": {
      "text/html": [
       "<div>\n",
       "<style scoped>\n",
       "    .dataframe tbody tr th:only-of-type {\n",
       "        vertical-align: middle;\n",
       "    }\n",
       "\n",
       "    .dataframe tbody tr th {\n",
       "        vertical-align: top;\n",
       "    }\n",
       "\n",
       "    .dataframe thead th {\n",
       "        text-align: right;\n",
       "    }\n",
       "</style>\n",
       "<table border=\"1\" class=\"dataframe\">\n",
       "  <thead>\n",
       "    <tr style=\"text-align: right;\">\n",
       "      <th></th>\n",
       "      <th>track_id</th>\n",
       "      <th>genre_id</th>\n",
       "      <th>chroma_cens.1.kurtosis</th>\n",
       "      <th>chroma_cens.2.kurtosis</th>\n",
       "      <th>chroma_cens.3.kurtosis</th>\n",
       "      <th>chroma_cens.4.kurtosis</th>\n",
       "      <th>chroma_cens.5.kurtosis</th>\n",
       "      <th>chroma_cens.6.kurtosis</th>\n",
       "      <th>chroma_cens.7.kurtosis</th>\n",
       "      <th>chroma_cens.8.kurtosis</th>\n",
       "      <th>...</th>\n",
       "      <th>spectral_flatness.1.mean</th>\n",
       "      <th>spectral_flatness.1.std</th>\n",
       "      <th>spectral_flatness.1.median</th>\n",
       "      <th>zero_crossing_rate.1.kurtosis</th>\n",
       "      <th>zero_crossing_rate.1.skew</th>\n",
       "      <th>zero_crossing_rate.1.amax</th>\n",
       "      <th>zero_crossing_rate.1.amin</th>\n",
       "      <th>zero_crossing_rate.1.mean</th>\n",
       "      <th>zero_crossing_rate.1.std</th>\n",
       "      <th>zero_crossing_rate.1.median</th>\n",
       "    </tr>\n",
       "  </thead>\n",
       "  <tbody>\n",
       "    <tr>\n",
       "      <td>600</td>\n",
       "      <td>23160</td>\n",
       "      <td>1</td>\n",
       "      <td>-0.769540</td>\n",
       "      <td>-1.045243</td>\n",
       "      <td>0.074666</td>\n",
       "      <td>-0.078524</td>\n",
       "      <td>-0.669670</td>\n",
       "      <td>-0.569221</td>\n",
       "      <td>-1.132840</td>\n",
       "      <td>-0.786514</td>\n",
       "      <td>...</td>\n",
       "      <td>0.000012</td>\n",
       "      <td>0.000009</td>\n",
       "      <td>0.000010</td>\n",
       "      <td>2.968807</td>\n",
       "      <td>1.500468</td>\n",
       "      <td>0.074707</td>\n",
       "      <td>0.002930</td>\n",
       "      <td>0.027749</td>\n",
       "      <td>0.010212</td>\n",
       "      <td>0.025391</td>\n",
       "    </tr>\n",
       "    <tr>\n",
       "      <td>1750</td>\n",
       "      <td>63226</td>\n",
       "      <td>7</td>\n",
       "      <td>-0.368606</td>\n",
       "      <td>-0.942418</td>\n",
       "      <td>1.357453</td>\n",
       "      <td>-1.536629</td>\n",
       "      <td>-1.317451</td>\n",
       "      <td>-1.289291</td>\n",
       "      <td>-0.847402</td>\n",
       "      <td>-1.122102</td>\n",
       "      <td>...</td>\n",
       "      <td>0.000515</td>\n",
       "      <td>0.001472</td>\n",
       "      <td>0.000085</td>\n",
       "      <td>2.499086</td>\n",
       "      <td>1.551817</td>\n",
       "      <td>0.245117</td>\n",
       "      <td>0.000488</td>\n",
       "      <td>0.057374</td>\n",
       "      <td>0.044314</td>\n",
       "      <td>0.044922</td>\n",
       "    </tr>\n",
       "    <tr>\n",
       "      <td>2309</td>\n",
       "      <td>82243</td>\n",
       "      <td>6</td>\n",
       "      <td>-0.327033</td>\n",
       "      <td>-0.644931</td>\n",
       "      <td>0.635093</td>\n",
       "      <td>1.559189</td>\n",
       "      <td>-0.515575</td>\n",
       "      <td>-0.876778</td>\n",
       "      <td>0.154838</td>\n",
       "      <td>-1.135360</td>\n",
       "      <td>...</td>\n",
       "      <td>0.000334</td>\n",
       "      <td>0.000606</td>\n",
       "      <td>0.000096</td>\n",
       "      <td>53.606380</td>\n",
       "      <td>5.509696</td>\n",
       "      <td>0.375000</td>\n",
       "      <td>0.002930</td>\n",
       "      <td>0.023773</td>\n",
       "      <td>0.023453</td>\n",
       "      <td>0.020508</td>\n",
       "    </tr>\n",
       "    <tr>\n",
       "      <td>793</td>\n",
       "      <td>30384</td>\n",
       "      <td>2</td>\n",
       "      <td>-0.510673</td>\n",
       "      <td>-1.106310</td>\n",
       "      <td>-0.726714</td>\n",
       "      <td>-0.861050</td>\n",
       "      <td>-0.787715</td>\n",
       "      <td>0.009944</td>\n",
       "      <td>-0.921187</td>\n",
       "      <td>-0.316034</td>\n",
       "      <td>...</td>\n",
       "      <td>0.002224</td>\n",
       "      <td>0.005879</td>\n",
       "      <td>0.000569</td>\n",
       "      <td>5.492209</td>\n",
       "      <td>2.177345</td>\n",
       "      <td>0.369629</td>\n",
       "      <td>0.007812</td>\n",
       "      <td>0.056789</td>\n",
       "      <td>0.052158</td>\n",
       "      <td>0.035156</td>\n",
       "    </tr>\n",
       "    <tr>\n",
       "      <td>3674</td>\n",
       "      <td>139110</td>\n",
       "      <td>3</td>\n",
       "      <td>-0.926402</td>\n",
       "      <td>1.576949</td>\n",
       "      <td>1.395580</td>\n",
       "      <td>0.384060</td>\n",
       "      <td>0.019932</td>\n",
       "      <td>-1.070472</td>\n",
       "      <td>-0.453638</td>\n",
       "      <td>-0.955023</td>\n",
       "      <td>...</td>\n",
       "      <td>0.000450</td>\n",
       "      <td>0.002025</td>\n",
       "      <td>0.000070</td>\n",
       "      <td>1.130463</td>\n",
       "      <td>1.190806</td>\n",
       "      <td>0.166992</td>\n",
       "      <td>0.006836</td>\n",
       "      <td>0.048211</td>\n",
       "      <td>0.028398</td>\n",
       "      <td>0.041504</td>\n",
       "    </tr>\n",
       "    <tr>\n",
       "      <td>2457</td>\n",
       "      <td>90584</td>\n",
       "      <td>7</td>\n",
       "      <td>1.691624</td>\n",
       "      <td>4.487879</td>\n",
       "      <td>-0.293419</td>\n",
       "      <td>0.979912</td>\n",
       "      <td>-0.792147</td>\n",
       "      <td>0.114376</td>\n",
       "      <td>-0.338539</td>\n",
       "      <td>2.621673</td>\n",
       "      <td>...</td>\n",
       "      <td>0.000136</td>\n",
       "      <td>0.000139</td>\n",
       "      <td>0.000091</td>\n",
       "      <td>1.102993</td>\n",
       "      <td>0.998616</td>\n",
       "      <td>0.163086</td>\n",
       "      <td>0.007812</td>\n",
       "      <td>0.051027</td>\n",
       "      <td>0.025924</td>\n",
       "      <td>0.046387</td>\n",
       "    </tr>\n",
       "    <tr>\n",
       "      <td>1250</td>\n",
       "      <td>47770</td>\n",
       "      <td>1</td>\n",
       "      <td>0.251898</td>\n",
       "      <td>-0.881312</td>\n",
       "      <td>-0.601509</td>\n",
       "      <td>-1.064309</td>\n",
       "      <td>-0.520576</td>\n",
       "      <td>-0.750684</td>\n",
       "      <td>-0.402726</td>\n",
       "      <td>0.565117</td>\n",
       "      <td>...</td>\n",
       "      <td>0.000052</td>\n",
       "      <td>0.000135</td>\n",
       "      <td>0.000016</td>\n",
       "      <td>5.133371</td>\n",
       "      <td>2.116852</td>\n",
       "      <td>0.143066</td>\n",
       "      <td>0.006348</td>\n",
       "      <td>0.032657</td>\n",
       "      <td>0.020711</td>\n",
       "      <td>0.024902</td>\n",
       "    </tr>\n",
       "    <tr>\n",
       "      <td>1313</td>\n",
       "      <td>48862</td>\n",
       "      <td>6</td>\n",
       "      <td>-0.559218</td>\n",
       "      <td>-0.622358</td>\n",
       "      <td>-0.826497</td>\n",
       "      <td>8.415811</td>\n",
       "      <td>0.847821</td>\n",
       "      <td>3.743505</td>\n",
       "      <td>-0.648947</td>\n",
       "      <td>-0.442487</td>\n",
       "      <td>...</td>\n",
       "      <td>0.001937</td>\n",
       "      <td>0.005272</td>\n",
       "      <td>0.000585</td>\n",
       "      <td>3.867778</td>\n",
       "      <td>1.609126</td>\n",
       "      <td>0.193359</td>\n",
       "      <td>0.008301</td>\n",
       "      <td>0.056910</td>\n",
       "      <td>0.025921</td>\n",
       "      <td>0.051758</td>\n",
       "    </tr>\n",
       "    <tr>\n",
       "      <td>2455</td>\n",
       "      <td>90579</td>\n",
       "      <td>7</td>\n",
       "      <td>-0.744188</td>\n",
       "      <td>-0.855389</td>\n",
       "      <td>-0.827198</td>\n",
       "      <td>-0.956269</td>\n",
       "      <td>-0.859570</td>\n",
       "      <td>0.131414</td>\n",
       "      <td>-0.491873</td>\n",
       "      <td>-1.034719</td>\n",
       "      <td>...</td>\n",
       "      <td>0.000046</td>\n",
       "      <td>0.000068</td>\n",
       "      <td>0.000019</td>\n",
       "      <td>-0.192370</td>\n",
       "      <td>0.432938</td>\n",
       "      <td>0.214844</td>\n",
       "      <td>0.007812</td>\n",
       "      <td>0.082841</td>\n",
       "      <td>0.037870</td>\n",
       "      <td>0.081055</td>\n",
       "    </tr>\n",
       "    <tr>\n",
       "      <td>1740</td>\n",
       "      <td>62591</td>\n",
       "      <td>5</td>\n",
       "      <td>0.423642</td>\n",
       "      <td>-0.596475</td>\n",
       "      <td>-0.561036</td>\n",
       "      <td>-0.364549</td>\n",
       "      <td>0.560249</td>\n",
       "      <td>0.898802</td>\n",
       "      <td>-0.217315</td>\n",
       "      <td>-0.370291</td>\n",
       "      <td>...</td>\n",
       "      <td>0.000814</td>\n",
       "      <td>0.002871</td>\n",
       "      <td>0.000133</td>\n",
       "      <td>1.354216</td>\n",
       "      <td>1.214072</td>\n",
       "      <td>0.168945</td>\n",
       "      <td>0.004883</td>\n",
       "      <td>0.033905</td>\n",
       "      <td>0.024461</td>\n",
       "      <td>0.027344</td>\n",
       "    </tr>\n",
       "  </tbody>\n",
       "</table>\n",
       "<p>10 rows × 541 columns</p>\n",
       "</div>"
      ],
      "text/plain": [
       "      track_id  genre_id  chroma_cens.1.kurtosis  chroma_cens.2.kurtosis  \\\n",
       "600      23160         1               -0.769540               -1.045243   \n",
       "1750     63226         7               -0.368606               -0.942418   \n",
       "2309     82243         6               -0.327033               -0.644931   \n",
       "793      30384         2               -0.510673               -1.106310   \n",
       "3674    139110         3               -0.926402                1.576949   \n",
       "2457     90584         7                1.691624                4.487879   \n",
       "1250     47770         1                0.251898               -0.881312   \n",
       "1313     48862         6               -0.559218               -0.622358   \n",
       "2455     90579         7               -0.744188               -0.855389   \n",
       "1740     62591         5                0.423642               -0.596475   \n",
       "\n",
       "      chroma_cens.3.kurtosis  chroma_cens.4.kurtosis  chroma_cens.5.kurtosis  \\\n",
       "600                 0.074666               -0.078524               -0.669670   \n",
       "1750                1.357453               -1.536629               -1.317451   \n",
       "2309                0.635093                1.559189               -0.515575   \n",
       "793                -0.726714               -0.861050               -0.787715   \n",
       "3674                1.395580                0.384060                0.019932   \n",
       "2457               -0.293419                0.979912               -0.792147   \n",
       "1250               -0.601509               -1.064309               -0.520576   \n",
       "1313               -0.826497                8.415811                0.847821   \n",
       "2455               -0.827198               -0.956269               -0.859570   \n",
       "1740               -0.561036               -0.364549                0.560249   \n",
       "\n",
       "      chroma_cens.6.kurtosis  chroma_cens.7.kurtosis  chroma_cens.8.kurtosis  \\\n",
       "600                -0.569221               -1.132840               -0.786514   \n",
       "1750               -1.289291               -0.847402               -1.122102   \n",
       "2309               -0.876778                0.154838               -1.135360   \n",
       "793                 0.009944               -0.921187               -0.316034   \n",
       "3674               -1.070472               -0.453638               -0.955023   \n",
       "2457                0.114376               -0.338539                2.621673   \n",
       "1250               -0.750684               -0.402726                0.565117   \n",
       "1313                3.743505               -0.648947               -0.442487   \n",
       "2455                0.131414               -0.491873               -1.034719   \n",
       "1740                0.898802               -0.217315               -0.370291   \n",
       "\n",
       "      ...  spectral_flatness.1.mean  spectral_flatness.1.std  \\\n",
       "600   ...                  0.000012                 0.000009   \n",
       "1750  ...                  0.000515                 0.001472   \n",
       "2309  ...                  0.000334                 0.000606   \n",
       "793   ...                  0.002224                 0.005879   \n",
       "3674  ...                  0.000450                 0.002025   \n",
       "2457  ...                  0.000136                 0.000139   \n",
       "1250  ...                  0.000052                 0.000135   \n",
       "1313  ...                  0.001937                 0.005272   \n",
       "2455  ...                  0.000046                 0.000068   \n",
       "1740  ...                  0.000814                 0.002871   \n",
       "\n",
       "      spectral_flatness.1.median  zero_crossing_rate.1.kurtosis  \\\n",
       "600                     0.000010                       2.968807   \n",
       "1750                    0.000085                       2.499086   \n",
       "2309                    0.000096                      53.606380   \n",
       "793                     0.000569                       5.492209   \n",
       "3674                    0.000070                       1.130463   \n",
       "2457                    0.000091                       1.102993   \n",
       "1250                    0.000016                       5.133371   \n",
       "1313                    0.000585                       3.867778   \n",
       "2455                    0.000019                      -0.192370   \n",
       "1740                    0.000133                       1.354216   \n",
       "\n",
       "      zero_crossing_rate.1.skew  zero_crossing_rate.1.amax  \\\n",
       "600                    1.500468                   0.074707   \n",
       "1750                   1.551817                   0.245117   \n",
       "2309                   5.509696                   0.375000   \n",
       "793                    2.177345                   0.369629   \n",
       "3674                   1.190806                   0.166992   \n",
       "2457                   0.998616                   0.163086   \n",
       "1250                   2.116852                   0.143066   \n",
       "1313                   1.609126                   0.193359   \n",
       "2455                   0.432938                   0.214844   \n",
       "1740                   1.214072                   0.168945   \n",
       "\n",
       "      zero_crossing_rate.1.amin  zero_crossing_rate.1.mean  \\\n",
       "600                    0.002930                   0.027749   \n",
       "1750                   0.000488                   0.057374   \n",
       "2309                   0.002930                   0.023773   \n",
       "793                    0.007812                   0.056789   \n",
       "3674                   0.006836                   0.048211   \n",
       "2457                   0.007812                   0.051027   \n",
       "1250                   0.006348                   0.032657   \n",
       "1313                   0.008301                   0.056910   \n",
       "2455                   0.007812                   0.082841   \n",
       "1740                   0.004883                   0.033905   \n",
       "\n",
       "      zero_crossing_rate.1.std  zero_crossing_rate.1.median  \n",
       "600                   0.010212                     0.025391  \n",
       "1750                  0.044314                     0.044922  \n",
       "2309                  0.023453                     0.020508  \n",
       "793                   0.052158                     0.035156  \n",
       "3674                  0.028398                     0.041504  \n",
       "2457                  0.025924                     0.046387  \n",
       "1250                  0.020711                     0.024902  \n",
       "1313                  0.025921                     0.051758  \n",
       "2455                  0.037870                     0.081055  \n",
       "1740                  0.024461                     0.027344  \n",
       "\n",
       "[10 rows x 541 columns]"
      ]
     },
     "execution_count": 2,
     "metadata": {},
     "output_type": "execute_result"
    }
   ],
   "source": [
    "# Croisement features/tracks du dataset train\n",
    "traingenre = pd.read_csv(filepath_or_buffer=\"train_clean.csv\", sep=\",\")\n",
    "datatrain = pd.read_csv(filepath_or_buffer=\"train_data.csv\", sep=\",\")\n",
    "\n",
    "data = pd.merge(traingenre, datatrain, on='track_id')\n",
    "print(\"data merged :\",data.shape, \", train genre :\", traingenre.shape, \", train data :\", datatrain.shape)\n",
    "data.sample(n=10)"
   ]
  },
  {
   "cell_type": "code",
   "execution_count": 3,
   "metadata": {},
   "outputs": [
    {
     "name": "stdout",
     "output_type": "stream",
     "text": [
      "x : (3995, 539) , y : (3995,)\n"
     ]
    }
   ],
   "source": [
    "# training sets\n",
    "x = data.drop(['genre_id', 'track_id'], axis=1)\n",
    "y = data['genre_id'].values\n",
    "\n",
    "print(\"x :\", x.shape, \", y :\", y.shape)"
   ]
  },
  {
   "cell_type": "code",
   "execution_count": 4,
   "metadata": {},
   "outputs": [
    {
     "name": "stdout",
     "output_type": "stream",
     "text": [
      "x_train : (3196, 539) , y_train : (3196,)\n",
      "x_test : (799, 539) , y_test : (799,)\n"
     ]
    }
   ],
   "source": [
    "# split train test\n",
    "x_train, x_test, y_train, y_test = train_test_split(x, y, test_size=0.2, random_state=42)\n",
    "\n",
    "print(\"x_train :\", x_train.shape, \", y_train :\", y_train.shape)\n",
    "print(\"x_test :\", x_test.shape, \", y_test :\", y_test.shape)"
   ]
  },
  {
   "cell_type": "code",
   "execution_count": 5,
   "metadata": {},
   "outputs": [
    {
     "name": "stdout",
     "output_type": "stream",
     "text": [
      "mean_train: -4.3604497104961323e-17. std_train: 0.9999999999999997\n"
     ]
    }
   ],
   "source": [
    "# normalisation\n",
    "scaler = preprocessing.StandardScaler().fit(x_train)\n",
    "x_train = scaler.transform(x_train)\n",
    "x_test = scaler.transform(x_test)\n",
    "\n",
    "mean_train = x_train.mean()\n",
    "std_train = x_train.std()\n",
    "print(f'mean_train: {mean_train}. std_train: {std_train}')"
   ]
  },
  {
   "cell_type": "markdown",
   "metadata": {},
   "source": [
    "## Premier modèle : K nearest neighbors"
   ]
  },
  {
   "cell_type": "code",
   "execution_count": 6,
   "metadata": {},
   "outputs": [
    {
     "data": {
      "text/plain": [
       "KNeighborsClassifier(algorithm='auto', leaf_size=30, metric='minkowski',\n",
       "                     metric_params=None, n_jobs=None, n_neighbors=1, p=2,\n",
       "                     weights='uniform')"
      ]
     },
     "execution_count": 6,
     "metadata": {},
     "output_type": "execute_result"
    }
   ],
   "source": [
    "knn_model = KNeighborsClassifier(n_neighbors=1)\n",
    "knn_model.fit(x_train, y_train)"
   ]
  },
  {
   "cell_type": "code",
   "execution_count": 7,
   "metadata": {},
   "outputs": [
    {
     "name": "stdout",
     "output_type": "stream",
     "text": [
      "              precision    recall  f1-score   support\n",
      "\n",
      "           1       0.79      0.85      0.82       112\n",
      "           2       0.30      0.16      0.21        88\n",
      "           3       0.54      0.46      0.50       111\n",
      "           4       0.47      0.58      0.52       107\n",
      "           5       0.41      0.50      0.45       105\n",
      "           6       0.40      0.24      0.30        94\n",
      "           7       0.21      0.22      0.22        91\n",
      "           8       0.40      0.54      0.46        91\n",
      "\n",
      "    accuracy                           0.46       799\n",
      "   macro avg       0.44      0.44      0.43       799\n",
      "weighted avg       0.45      0.46      0.45       799\n",
      "\n"
     ]
    }
   ],
   "source": [
    "y_pred = knn_model.predict(x_test)\n",
    "print(classification_report(y_test,y_pred))"
   ]
  },
  {
   "cell_type": "markdown",
   "metadata": {},
   "source": [
    "## Deuxième modèle : Decision Tree"
   ]
  },
  {
   "cell_type": "code",
   "execution_count": 8,
   "metadata": {},
   "outputs": [
    {
     "data": {
      "text/plain": [
       "DecisionTreeClassifier(class_weight=None, criterion='gini', max_depth=None,\n",
       "                       max_features=None, max_leaf_nodes=16,\n",
       "                       min_impurity_decrease=0.0, min_impurity_split=None,\n",
       "                       min_samples_leaf=1, min_samples_split=2,\n",
       "                       min_weight_fraction_leaf=0.0, presort=False,\n",
       "                       random_state=None, splitter='best')"
      ]
     },
     "execution_count": 8,
     "metadata": {},
     "output_type": "execute_result"
    }
   ],
   "source": [
    "tree_model = DecisionTreeClassifier(max_leaf_nodes=16, min_samples_split=2)\n",
    "tree_model.fit(x_train, y_train)"
   ]
  },
  {
   "cell_type": "code",
   "execution_count": 9,
   "metadata": {},
   "outputs": [
    {
     "name": "stdout",
     "output_type": "stream",
     "text": [
      "              precision    recall  f1-score   support\n",
      "\n",
      "           1       0.74      0.81      0.77       112\n",
      "           2       0.23      0.26      0.25        88\n",
      "           3       0.55      0.36      0.43       111\n",
      "           4       0.48      0.47      0.47       107\n",
      "           5       0.28      0.54      0.37       105\n",
      "           6       0.30      0.24      0.27        94\n",
      "           7       0.30      0.15      0.20        91\n",
      "           8       0.54      0.42      0.47        91\n",
      "\n",
      "    accuracy                           0.42       799\n",
      "   macro avg       0.43      0.41      0.40       799\n",
      "weighted avg       0.44      0.42      0.42       799\n",
      "\n"
     ]
    }
   ],
   "source": [
    "y_pred = tree_model.predict(x_test)\n",
    "print(classification_report(y_test,y_pred))"
   ]
  },
  {
   "cell_type": "code",
   "execution_count": 10,
   "metadata": {},
   "outputs": [],
   "source": [
    "# Attention !!! Prend beaucoup de temps d'execution. Valeurs trouvée déjà utilisées précédemment.\n",
    "# Trouvé : max_leaf_nodes = 16 et min_samples_split = 2\n",
    "\n",
    "# optimization\n",
    "# parameters = {'max_leaf_nodes':[x for x in range(2, 20)], 'min_samples_split':[y for y in range(2, 20)]} \n",
    "\n",
    "# grid_search_cv = GridSearchCV(DecisionTreeClassifier(), parameters, scoring='accuracy')\n",
    "# grid_search_cv.fit(x_train, y_train)\n",
    "# grid_search_cv.best_estimator_"
   ]
  },
  {
   "cell_type": "code",
   "execution_count": 11,
   "metadata": {},
   "outputs": [],
   "source": [
    "# y_pred = grid_search_cv.predict(x_test)\n",
    "# print(classification_report(y_test,y_pred))"
   ]
  },
  {
   "cell_type": "markdown",
   "metadata": {},
   "source": [
    "## Troisième modèle : Random Forest"
   ]
  },
  {
   "cell_type": "code",
   "execution_count": 12,
   "metadata": {},
   "outputs": [
    {
     "name": "stderr",
     "output_type": "stream",
     "text": [
      "/home/janerussel/anaconda3/envs/IA/lib/python3.7/site-packages/sklearn/ensemble/forest.py:245: FutureWarning: The default value of n_estimators will change from 10 in version 0.20 to 100 in 0.22.\n",
      "  \"10 in version 0.20 to 100 in 0.22.\", FutureWarning)\n"
     ]
    },
    {
     "data": {
      "text/plain": [
       "RandomForestClassifier(bootstrap=True, class_weight=None, criterion='gini',\n",
       "                       max_depth=None, max_features='auto', max_leaf_nodes=16,\n",
       "                       min_impurity_decrease=0.0, min_impurity_split=None,\n",
       "                       min_samples_leaf=1, min_samples_split=2,\n",
       "                       min_weight_fraction_leaf=0.0, n_estimators=10,\n",
       "                       n_jobs=None, oob_score=False, random_state=None,\n",
       "                       verbose=0, warm_start=False)"
      ]
     },
     "execution_count": 12,
     "metadata": {},
     "output_type": "execute_result"
    }
   ],
   "source": [
    "forest_model = RandomForestClassifier(max_leaf_nodes=16, min_samples_split=2)\n",
    "forest_model.fit(x_train, y_train)"
   ]
  },
  {
   "cell_type": "code",
   "execution_count": 13,
   "metadata": {},
   "outputs": [
    {
     "name": "stdout",
     "output_type": "stream",
     "text": [
      "              precision    recall  f1-score   support\n",
      "\n",
      "           1       0.62      0.86      0.72       112\n",
      "           2       0.33      0.23      0.27        88\n",
      "           3       0.57      0.54      0.56       111\n",
      "           4       0.46      0.65      0.54       107\n",
      "           5       0.38      0.31      0.35       105\n",
      "           6       0.36      0.27      0.31        94\n",
      "           7       0.19      0.07      0.10        91\n",
      "           8       0.45      0.68      0.54        91\n",
      "\n",
      "    accuracy                           0.47       799\n",
      "   macro avg       0.42      0.45      0.42       799\n",
      "weighted avg       0.43      0.47      0.43       799\n",
      "\n"
     ]
    }
   ],
   "source": [
    "y_pred = forest_model.predict(x_test)\n",
    "print(classification_report(y_test,y_pred))"
   ]
  },
  {
   "cell_type": "markdown",
   "metadata": {},
   "source": [
    "## Quatrième méthode : Gradient Boosting"
   ]
  },
  {
   "cell_type": "code",
   "execution_count": 14,
   "metadata": {},
   "outputs": [
    {
     "data": {
      "text/plain": [
       "GradientBoostingClassifier(criterion='friedman_mse', init=None,\n",
       "                           learning_rate=0.1, loss='deviance', max_depth=3,\n",
       "                           max_features=None, max_leaf_nodes=None,\n",
       "                           min_impurity_decrease=0.0, min_impurity_split=None,\n",
       "                           min_samples_leaf=1, min_samples_split=2,\n",
       "                           min_weight_fraction_leaf=0.0, n_estimators=100,\n",
       "                           n_iter_no_change=None, presort='auto',\n",
       "                           random_state=None, subsample=1.0, tol=0.0001,\n",
       "                           validation_fraction=0.1, verbose=0,\n",
       "                           warm_start=False)"
      ]
     },
     "execution_count": 14,
     "metadata": {},
     "output_type": "execute_result"
    }
   ],
   "source": [
    "gradient_model = GradientBoostingClassifier()\n",
    "gradient_model.fit(x_train, y_train)"
   ]
  },
  {
   "cell_type": "code",
   "execution_count": 15,
   "metadata": {},
   "outputs": [
    {
     "name": "stdout",
     "output_type": "stream",
     "text": [
      "              precision    recall  f1-score   support\n",
      "\n",
      "           1       0.84      0.88      0.86       112\n",
      "           2       0.44      0.50      0.47        88\n",
      "           3       0.68      0.57      0.62       111\n",
      "           4       0.63      0.68      0.66       107\n",
      "           5       0.52      0.53      0.53       105\n",
      "           6       0.50      0.47      0.48        94\n",
      "           7       0.24      0.24      0.24        91\n",
      "           8       0.52      0.52      0.52        91\n",
      "\n",
      "    accuracy                           0.56       799\n",
      "   macro avg       0.55      0.55      0.55       799\n",
      "weighted avg       0.56      0.56      0.56       799\n",
      "\n"
     ]
    }
   ],
   "source": [
    "y_pred = gradient_model.predict(x_test)\n",
    "print(classification_report(y_test,y_pred))"
   ]
  },
  {
   "cell_type": "markdown",
   "metadata": {},
   "source": [
    "## Cinquième méthode : XGBoost"
   ]
  },
  {
   "cell_type": "code",
   "execution_count": 16,
   "metadata": {},
   "outputs": [
    {
     "data": {
      "text/plain": [
       "XGBClassifier(base_score=0.5, booster='gbtree', colsample_bylevel=1,\n",
       "              colsample_bynode=1, colsample_bytree=1, gamma=0,\n",
       "              learning_rate=0.1, max_delta_step=0, max_depth=3,\n",
       "              min_child_weight=1, missing=None, n_estimators=100, n_jobs=1,\n",
       "              nthread=None, objective='multi:softprob', random_state=0,\n",
       "              reg_alpha=0, reg_lambda=1, scale_pos_weight=1, seed=None,\n",
       "              silent=None, subsample=1, verbosity=1)"
      ]
     },
     "execution_count": 16,
     "metadata": {},
     "output_type": "execute_result"
    }
   ],
   "source": [
    "xgb_model = xgb.XGBClassifier()\n",
    "xgb_model.fit(x_train, y_train)"
   ]
  },
  {
   "cell_type": "code",
   "execution_count": 17,
   "metadata": {},
   "outputs": [
    {
     "name": "stdout",
     "output_type": "stream",
     "text": [
      "              precision    recall  f1-score   support\n",
      "\n",
      "           1       0.82      0.91      0.86       112\n",
      "           2       0.43      0.49      0.46        88\n",
      "           3       0.71      0.60      0.65       111\n",
      "           4       0.60      0.68      0.64       107\n",
      "           5       0.46      0.46      0.46       105\n",
      "           6       0.51      0.44      0.47        94\n",
      "           7       0.24      0.21      0.22        91\n",
      "           8       0.55      0.57      0.56        91\n",
      "\n",
      "    accuracy                           0.56       799\n",
      "   macro avg       0.54      0.54      0.54       799\n",
      "weighted avg       0.55      0.56      0.55       799\n",
      "\n"
     ]
    }
   ],
   "source": [
    "y_pred = xgb_model.predict(x_test)\n",
    "print(classification_report(y_test,y_pred))"
   ]
  },
  {
   "cell_type": "markdown",
   "metadata": {},
   "source": [
    "## Tuning XGBoost"
   ]
  },
  {
   "cell_type": "code",
   "execution_count": 18,
   "metadata": {},
   "outputs": [],
   "source": [
    "# params = {\n",
    "#     # Parameters that we are going to tune.\n",
    "#     'max_depth':6,\n",
    "#     'min_child_weight': 1,\n",
    "#     'eta':.3\n",
    "# }\n",
    "\n",
    "# params['eval_metric'] = \"mae\"\n",
    "# num_boost_round = 999\n",
    "\n",
    "# model = xgb.train(\n",
    "#     params,\n",
    "#     x_train,\n",
    "#     num_boost_round=num_boost_round,\n",
    "#     evals=[(y_train, \"Test\")],\n",
    "#     early_stopping_rounds=10\n",
    "# )\n",
    "\n",
    "# xgb_model = xgb.XGBClassifier()\n",
    "# xgb_model.fit(x_train, y_train)"
   ]
  },
  {
   "cell_type": "code",
   "execution_count": 19,
   "metadata": {},
   "outputs": [],
   "source": [
    "# mauvaise idée : temps d'execution infini\n",
    "\n",
    "# parameters = {'n_estimators':[n for n in range(100, 200, 10)], 'learning_rate':[x/100 for x in range(5, 30)], 'max_depth':[y for y in range(3, 10)], 'min_child_weight':[z for z in range(1, 6)]} \n",
    "# grid_search_cv = GridSearchCV(xgb.XGBClassifier(), parameters, scoring='accuracy')\n",
    "# grid_search_cv.fit(x_train, y_train)\n",
    "# grid_search_cv.best_estimator_"
   ]
  },
  {
   "cell_type": "code",
   "execution_count": 24,
   "metadata": {},
   "outputs": [
    {
     "data": {
      "text/plain": [
       "XGBClassifier(base_score=0.5, booster='gbtree', colsample_bylevel=1,\n",
       "              colsample_bynode=1, colsample_bytree=1, gamma=0,\n",
       "              learning_rate=0.1, max_delta_step=0, max_depth=5,\n",
       "              min_child_weight=3, missing=None, n_estimators=200, n_jobs=1,\n",
       "              nthread=None, objective='multi:softprob', random_state=0,\n",
       "              reg_alpha=0, reg_lambda=1, scale_pos_weight=1, seed=None,\n",
       "              silent=None, subsample=1, verbosity=1)"
      ]
     },
     "execution_count": 24,
     "metadata": {},
     "output_type": "execute_result"
    }
   ],
   "source": [
    "xgb_model = xgb.XGBClassifier(n_estimators=200, learning_rate=0.1, max_depth=5, min_child_weight=3)\n",
    "xgb_model.fit(x_train, y_train)"
   ]
  },
  {
   "cell_type": "code",
   "execution_count": 25,
   "metadata": {},
   "outputs": [
    {
     "name": "stdout",
     "output_type": "stream",
     "text": [
      "              precision    recall  f1-score   support\n",
      "\n",
      "           1       0.85      0.89      0.87       112\n",
      "           2       0.40      0.44      0.42        88\n",
      "           3       0.70      0.64      0.67       111\n",
      "           4       0.63      0.70      0.66       107\n",
      "           5       0.62      0.58      0.60       105\n",
      "           6       0.48      0.45      0.46        94\n",
      "           7       0.25      0.23      0.24        91\n",
      "           8       0.54      0.56      0.55        91\n",
      "\n",
      "    accuracy                           0.58       799\n",
      "   macro avg       0.56      0.56      0.56       799\n",
      "weighted avg       0.57      0.58      0.57       799\n",
      "\n"
     ]
    }
   ],
   "source": [
    "y_pred = xgb_model.predict(x_test)\n",
    "print(classification_report(y_test,y_pred))"
   ]
  },
  {
   "cell_type": "code",
   "execution_count": null,
   "metadata": {},
   "outputs": [],
   "source": [
    "# n_estimators=150, learning_rate=0.2, max_depth=3, min_child_weight=1  --------> 0.58\n",
    "# n_estimators=150, learning_rate=0.2, max_depth=5, min_child_weight=1  --------> 0.58\n",
    "# n_estimators=180, learning_rate=0.2, max_depth=5, min_child_weight=3  --------> 0.59\n",
    "# n_estimators=180, learning_rate=0.25, max_depth=5, min_child_weight=3  -------> 0.58\n",
    "# n_estimators=170, learning_rate=0.2, max_depth=7, min_child_weight=3  --------> 0.58\n",
    "# n_estimators=180, learning_rate=0.15, max_depth=5, min_child_weight=3  -------> 0.58\n",
    "# n_estimators=200, learning_rate=0.1, max_depth=5, min_child_weight=3  --------> 0.58\n",
    "# n_estimators=200, learning_rate=0.2, max_depth=3, min_child_weight=1  --------> 0.59"
   ]
  }
 ],
 "metadata": {
  "kernelspec": {
   "display_name": "Python 3",
   "language": "python",
   "name": "python3"
  },
  "language_info": {
   "codemirror_mode": {
    "name": "ipython",
    "version": 3
   },
   "file_extension": ".py",
   "mimetype": "text/x-python",
   "name": "python",
   "nbconvert_exporter": "python",
   "pygments_lexer": "ipython3",
   "version": "3.7.4"
  }
 },
 "nbformat": 4,
 "nbformat_minor": 2
}
