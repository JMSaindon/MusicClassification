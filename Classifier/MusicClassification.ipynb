{
 "cells": [
  {
   "cell_type": "code",
   "execution_count": 1,
   "metadata": {},
   "outputs": [],
   "source": [
    "import numpy as np\n",
    "import pandas as pd\n",
    "import xgboost as xgb\n",
    "\n",
    "from sklearn.model_selection import train_test_split\n",
    "from sklearn import preprocessing\n",
    "from sklearn.metrics import classification_report\n",
    "from sklearn.neighbors import KNeighborsClassifier\n",
    "from sklearn.tree import DecisionTreeClassifier\n",
    "from sklearn.model_selection import GridSearchCV\n",
    "from sklearn.ensemble import RandomForestClassifier, GradientBoostingClassifier"
   ]
  },
  {
   "cell_type": "code",
   "execution_count": 2,
   "metadata": {},
   "outputs": [
    {
     "name": "stdout",
     "output_type": "stream",
     "text": [
      "data merged : (3995, 541) , train genre : (3995, 2) , train data : (3997, 540)\n"
     ]
    },
    {
     "data": {
      "text/html": [
       "<div>\n",
       "<style scoped>\n",
       "    .dataframe tbody tr th:only-of-type {\n",
       "        vertical-align: middle;\n",
       "    }\n",
       "\n",
       "    .dataframe tbody tr th {\n",
       "        vertical-align: top;\n",
       "    }\n",
       "\n",
       "    .dataframe thead th {\n",
       "        text-align: right;\n",
       "    }\n",
       "</style>\n",
       "<table border=\"1\" class=\"dataframe\">\n",
       "  <thead>\n",
       "    <tr style=\"text-align: right;\">\n",
       "      <th></th>\n",
       "      <th>track_id</th>\n",
       "      <th>genre_id</th>\n",
       "      <th>chroma_cens.1.kurtosis</th>\n",
       "      <th>chroma_cens.2.kurtosis</th>\n",
       "      <th>chroma_cens.3.kurtosis</th>\n",
       "      <th>chroma_cens.4.kurtosis</th>\n",
       "      <th>chroma_cens.5.kurtosis</th>\n",
       "      <th>chroma_cens.6.kurtosis</th>\n",
       "      <th>chroma_cens.7.kurtosis</th>\n",
       "      <th>chroma_cens.8.kurtosis</th>\n",
       "      <th>...</th>\n",
       "      <th>spectral_flatness.1.mean</th>\n",
       "      <th>spectral_flatness.1.std</th>\n",
       "      <th>spectral_flatness.1.median</th>\n",
       "      <th>zero_crossing_rate.1.kurtosis</th>\n",
       "      <th>zero_crossing_rate.1.skew</th>\n",
       "      <th>zero_crossing_rate.1.amax</th>\n",
       "      <th>zero_crossing_rate.1.amin</th>\n",
       "      <th>zero_crossing_rate.1.mean</th>\n",
       "      <th>zero_crossing_rate.1.std</th>\n",
       "      <th>zero_crossing_rate.1.median</th>\n",
       "    </tr>\n",
       "  </thead>\n",
       "  <tbody>\n",
       "    <tr>\n",
       "      <td>1117</td>\n",
       "      <td>43290</td>\n",
       "      <td>2</td>\n",
       "      <td>-0.397257</td>\n",
       "      <td>1.125258</td>\n",
       "      <td>-0.251642</td>\n",
       "      <td>-0.619167</td>\n",
       "      <td>0.087015</td>\n",
       "      <td>1.331539</td>\n",
       "      <td>0.473310</td>\n",
       "      <td>1.244570</td>\n",
       "      <td>...</td>\n",
       "      <td>0.015389</td>\n",
       "      <td>0.013969</td>\n",
       "      <td>0.011108</td>\n",
       "      <td>-0.670261</td>\n",
       "      <td>-0.016105</td>\n",
       "      <td>0.381348</td>\n",
       "      <td>0.007812</td>\n",
       "      <td>0.172246</td>\n",
       "      <td>0.077225</td>\n",
       "      <td>0.173340</td>\n",
       "    </tr>\n",
       "    <tr>\n",
       "      <td>3011</td>\n",
       "      <td>114427</td>\n",
       "      <td>8</td>\n",
       "      <td>-0.586725</td>\n",
       "      <td>-1.309208</td>\n",
       "      <td>0.606689</td>\n",
       "      <td>4.939470</td>\n",
       "      <td>-0.728544</td>\n",
       "      <td>-1.047655</td>\n",
       "      <td>-1.123760</td>\n",
       "      <td>-0.495722</td>\n",
       "      <td>...</td>\n",
       "      <td>0.000463</td>\n",
       "      <td>0.002402</td>\n",
       "      <td>0.000038</td>\n",
       "      <td>11.384439</td>\n",
       "      <td>2.507294</td>\n",
       "      <td>0.125488</td>\n",
       "      <td>0.002930</td>\n",
       "      <td>0.022268</td>\n",
       "      <td>0.013091</td>\n",
       "      <td>0.020508</td>\n",
       "    </tr>\n",
       "    <tr>\n",
       "      <td>1780</td>\n",
       "      <td>64520</td>\n",
       "      <td>4</td>\n",
       "      <td>-0.501923</td>\n",
       "      <td>-0.647989</td>\n",
       "      <td>-0.693070</td>\n",
       "      <td>-0.367798</td>\n",
       "      <td>0.050214</td>\n",
       "      <td>-1.013556</td>\n",
       "      <td>-0.922846</td>\n",
       "      <td>-0.447982</td>\n",
       "      <td>...</td>\n",
       "      <td>0.001410</td>\n",
       "      <td>0.003947</td>\n",
       "      <td>0.000171</td>\n",
       "      <td>10.779195</td>\n",
       "      <td>2.831683</td>\n",
       "      <td>0.328613</td>\n",
       "      <td>0.004395</td>\n",
       "      <td>0.046171</td>\n",
       "      <td>0.043720</td>\n",
       "      <td>0.032227</td>\n",
       "    </tr>\n",
       "    <tr>\n",
       "      <td>2924</td>\n",
       "      <td>112460</td>\n",
       "      <td>4</td>\n",
       "      <td>-0.761783</td>\n",
       "      <td>-0.821797</td>\n",
       "      <td>0.038480</td>\n",
       "      <td>0.728742</td>\n",
       "      <td>-0.093741</td>\n",
       "      <td>1.391619</td>\n",
       "      <td>1.239211</td>\n",
       "      <td>0.041407</td>\n",
       "      <td>...</td>\n",
       "      <td>0.002788</td>\n",
       "      <td>0.008723</td>\n",
       "      <td>0.000107</td>\n",
       "      <td>7.922057</td>\n",
       "      <td>2.577684</td>\n",
       "      <td>0.308594</td>\n",
       "      <td>0.001953</td>\n",
       "      <td>0.040129</td>\n",
       "      <td>0.045052</td>\n",
       "      <td>0.025879</td>\n",
       "    </tr>\n",
       "    <tr>\n",
       "      <td>1797</td>\n",
       "      <td>64836</td>\n",
       "      <td>7</td>\n",
       "      <td>-0.450774</td>\n",
       "      <td>-0.692876</td>\n",
       "      <td>-0.385053</td>\n",
       "      <td>-0.218366</td>\n",
       "      <td>-0.313339</td>\n",
       "      <td>-0.486855</td>\n",
       "      <td>-0.515963</td>\n",
       "      <td>-0.815472</td>\n",
       "      <td>...</td>\n",
       "      <td>0.004546</td>\n",
       "      <td>0.005459</td>\n",
       "      <td>0.002599</td>\n",
       "      <td>1.604511</td>\n",
       "      <td>1.026970</td>\n",
       "      <td>0.252930</td>\n",
       "      <td>0.014160</td>\n",
       "      <td>0.075680</td>\n",
       "      <td>0.034366</td>\n",
       "      <td>0.070312</td>\n",
       "    </tr>\n",
       "    <tr>\n",
       "      <td>1500</td>\n",
       "      <td>55779</td>\n",
       "      <td>2</td>\n",
       "      <td>-0.623857</td>\n",
       "      <td>-0.933477</td>\n",
       "      <td>-0.737083</td>\n",
       "      <td>-0.848343</td>\n",
       "      <td>-0.539720</td>\n",
       "      <td>-0.440108</td>\n",
       "      <td>0.098668</td>\n",
       "      <td>0.500562</td>\n",
       "      <td>...</td>\n",
       "      <td>0.000331</td>\n",
       "      <td>0.000586</td>\n",
       "      <td>0.000181</td>\n",
       "      <td>1.279500</td>\n",
       "      <td>1.048141</td>\n",
       "      <td>0.343262</td>\n",
       "      <td>0.003418</td>\n",
       "      <td>0.092360</td>\n",
       "      <td>0.060085</td>\n",
       "      <td>0.081055</td>\n",
       "    </tr>\n",
       "    <tr>\n",
       "      <td>352</td>\n",
       "      <td>12923</td>\n",
       "      <td>1</td>\n",
       "      <td>-0.904184</td>\n",
       "      <td>-1.120289</td>\n",
       "      <td>0.237691</td>\n",
       "      <td>-0.882855</td>\n",
       "      <td>-0.237570</td>\n",
       "      <td>-0.992595</td>\n",
       "      <td>-1.099598</td>\n",
       "      <td>-0.831494</td>\n",
       "      <td>...</td>\n",
       "      <td>0.000519</td>\n",
       "      <td>0.019724</td>\n",
       "      <td>0.000017</td>\n",
       "      <td>55.564543</td>\n",
       "      <td>5.801118</td>\n",
       "      <td>0.369629</td>\n",
       "      <td>0.000000</td>\n",
       "      <td>0.026332</td>\n",
       "      <td>0.027885</td>\n",
       "      <td>0.018555</td>\n",
       "    </tr>\n",
       "    <tr>\n",
       "      <td>2575</td>\n",
       "      <td>96662</td>\n",
       "      <td>4</td>\n",
       "      <td>-0.932349</td>\n",
       "      <td>-0.848899</td>\n",
       "      <td>-0.418941</td>\n",
       "      <td>0.563712</td>\n",
       "      <td>-0.009385</td>\n",
       "      <td>0.152181</td>\n",
       "      <td>-0.763238</td>\n",
       "      <td>-0.730254</td>\n",
       "      <td>...</td>\n",
       "      <td>0.006390</td>\n",
       "      <td>0.011329</td>\n",
       "      <td>0.001610</td>\n",
       "      <td>3.057083</td>\n",
       "      <td>1.694943</td>\n",
       "      <td>0.447754</td>\n",
       "      <td>0.002441</td>\n",
       "      <td>0.080326</td>\n",
       "      <td>0.069958</td>\n",
       "      <td>0.055664</td>\n",
       "    </tr>\n",
       "    <tr>\n",
       "      <td>2080</td>\n",
       "      <td>72146</td>\n",
       "      <td>6</td>\n",
       "      <td>-0.515593</td>\n",
       "      <td>-0.359494</td>\n",
       "      <td>-0.272365</td>\n",
       "      <td>-0.703083</td>\n",
       "      <td>-0.317253</td>\n",
       "      <td>-0.453634</td>\n",
       "      <td>-0.141609</td>\n",
       "      <td>-0.588779</td>\n",
       "      <td>...</td>\n",
       "      <td>0.000764</td>\n",
       "      <td>0.000887</td>\n",
       "      <td>0.000550</td>\n",
       "      <td>0.748342</td>\n",
       "      <td>0.612682</td>\n",
       "      <td>0.249512</td>\n",
       "      <td>0.031250</td>\n",
       "      <td>0.102991</td>\n",
       "      <td>0.031074</td>\n",
       "      <td>0.101074</td>\n",
       "    </tr>\n",
       "    <tr>\n",
       "      <td>3607</td>\n",
       "      <td>135341</td>\n",
       "      <td>7</td>\n",
       "      <td>-0.019418</td>\n",
       "      <td>0.178403</td>\n",
       "      <td>-0.087839</td>\n",
       "      <td>0.159739</td>\n",
       "      <td>-0.006500</td>\n",
       "      <td>-0.377886</td>\n",
       "      <td>0.770724</td>\n",
       "      <td>1.432152</td>\n",
       "      <td>...</td>\n",
       "      <td>0.000755</td>\n",
       "      <td>0.001788</td>\n",
       "      <td>0.000230</td>\n",
       "      <td>1.417478</td>\n",
       "      <td>1.373157</td>\n",
       "      <td>0.539062</td>\n",
       "      <td>0.004883</td>\n",
       "      <td>0.137560</td>\n",
       "      <td>0.103218</td>\n",
       "      <td>0.101562</td>\n",
       "    </tr>\n",
       "  </tbody>\n",
       "</table>\n",
       "<p>10 rows × 541 columns</p>\n",
       "</div>"
      ],
      "text/plain": [
       "      track_id  genre_id  chroma_cens.1.kurtosis  chroma_cens.2.kurtosis  \\\n",
       "1117     43290         2               -0.397257                1.125258   \n",
       "3011    114427         8               -0.586725               -1.309208   \n",
       "1780     64520         4               -0.501923               -0.647989   \n",
       "2924    112460         4               -0.761783               -0.821797   \n",
       "1797     64836         7               -0.450774               -0.692876   \n",
       "1500     55779         2               -0.623857               -0.933477   \n",
       "352      12923         1               -0.904184               -1.120289   \n",
       "2575     96662         4               -0.932349               -0.848899   \n",
       "2080     72146         6               -0.515593               -0.359494   \n",
       "3607    135341         7               -0.019418                0.178403   \n",
       "\n",
       "      chroma_cens.3.kurtosis  chroma_cens.4.kurtosis  chroma_cens.5.kurtosis  \\\n",
       "1117               -0.251642               -0.619167                0.087015   \n",
       "3011                0.606689                4.939470               -0.728544   \n",
       "1780               -0.693070               -0.367798                0.050214   \n",
       "2924                0.038480                0.728742               -0.093741   \n",
       "1797               -0.385053               -0.218366               -0.313339   \n",
       "1500               -0.737083               -0.848343               -0.539720   \n",
       "352                 0.237691               -0.882855               -0.237570   \n",
       "2575               -0.418941                0.563712               -0.009385   \n",
       "2080               -0.272365               -0.703083               -0.317253   \n",
       "3607               -0.087839                0.159739               -0.006500   \n",
       "\n",
       "      chroma_cens.6.kurtosis  chroma_cens.7.kurtosis  chroma_cens.8.kurtosis  \\\n",
       "1117                1.331539                0.473310                1.244570   \n",
       "3011               -1.047655               -1.123760               -0.495722   \n",
       "1780               -1.013556               -0.922846               -0.447982   \n",
       "2924                1.391619                1.239211                0.041407   \n",
       "1797               -0.486855               -0.515963               -0.815472   \n",
       "1500               -0.440108                0.098668                0.500562   \n",
       "352                -0.992595               -1.099598               -0.831494   \n",
       "2575                0.152181               -0.763238               -0.730254   \n",
       "2080               -0.453634               -0.141609               -0.588779   \n",
       "3607               -0.377886                0.770724                1.432152   \n",
       "\n",
       "      ...  spectral_flatness.1.mean  spectral_flatness.1.std  \\\n",
       "1117  ...                  0.015389                 0.013969   \n",
       "3011  ...                  0.000463                 0.002402   \n",
       "1780  ...                  0.001410                 0.003947   \n",
       "2924  ...                  0.002788                 0.008723   \n",
       "1797  ...                  0.004546                 0.005459   \n",
       "1500  ...                  0.000331                 0.000586   \n",
       "352   ...                  0.000519                 0.019724   \n",
       "2575  ...                  0.006390                 0.011329   \n",
       "2080  ...                  0.000764                 0.000887   \n",
       "3607  ...                  0.000755                 0.001788   \n",
       "\n",
       "      spectral_flatness.1.median  zero_crossing_rate.1.kurtosis  \\\n",
       "1117                    0.011108                      -0.670261   \n",
       "3011                    0.000038                      11.384439   \n",
       "1780                    0.000171                      10.779195   \n",
       "2924                    0.000107                       7.922057   \n",
       "1797                    0.002599                       1.604511   \n",
       "1500                    0.000181                       1.279500   \n",
       "352                     0.000017                      55.564543   \n",
       "2575                    0.001610                       3.057083   \n",
       "2080                    0.000550                       0.748342   \n",
       "3607                    0.000230                       1.417478   \n",
       "\n",
       "      zero_crossing_rate.1.skew  zero_crossing_rate.1.amax  \\\n",
       "1117                  -0.016105                   0.381348   \n",
       "3011                   2.507294                   0.125488   \n",
       "1780                   2.831683                   0.328613   \n",
       "2924                   2.577684                   0.308594   \n",
       "1797                   1.026970                   0.252930   \n",
       "1500                   1.048141                   0.343262   \n",
       "352                    5.801118                   0.369629   \n",
       "2575                   1.694943                   0.447754   \n",
       "2080                   0.612682                   0.249512   \n",
       "3607                   1.373157                   0.539062   \n",
       "\n",
       "      zero_crossing_rate.1.amin  zero_crossing_rate.1.mean  \\\n",
       "1117                   0.007812                   0.172246   \n",
       "3011                   0.002930                   0.022268   \n",
       "1780                   0.004395                   0.046171   \n",
       "2924                   0.001953                   0.040129   \n",
       "1797                   0.014160                   0.075680   \n",
       "1500                   0.003418                   0.092360   \n",
       "352                    0.000000                   0.026332   \n",
       "2575                   0.002441                   0.080326   \n",
       "2080                   0.031250                   0.102991   \n",
       "3607                   0.004883                   0.137560   \n",
       "\n",
       "      zero_crossing_rate.1.std  zero_crossing_rate.1.median  \n",
       "1117                  0.077225                     0.173340  \n",
       "3011                  0.013091                     0.020508  \n",
       "1780                  0.043720                     0.032227  \n",
       "2924                  0.045052                     0.025879  \n",
       "1797                  0.034366                     0.070312  \n",
       "1500                  0.060085                     0.081055  \n",
       "352                   0.027885                     0.018555  \n",
       "2575                  0.069958                     0.055664  \n",
       "2080                  0.031074                     0.101074  \n",
       "3607                  0.103218                     0.101562  \n",
       "\n",
       "[10 rows x 541 columns]"
      ]
     },
     "execution_count": 2,
     "metadata": {},
     "output_type": "execute_result"
    }
   ],
   "source": [
    "# Croisement features/tracks du dataset train\n",
    "traingenre = pd.read_csv(filepath_or_buffer=\"train_clean.csv\", sep=\",\")\n",
    "datatrain = pd.read_csv(filepath_or_buffer=\"train_data.csv\", sep=\",\")\n",
    "\n",
    "data = pd.merge(traingenre, datatrain, on='track_id')\n",
    "print(\"data merged :\",data.shape, \", train genre :\", traingenre.shape, \", train data :\", datatrain.shape)\n",
    "data.sample(n=10)"
   ]
  },
  {
   "cell_type": "code",
   "execution_count": 3,
   "metadata": {},
   "outputs": [
    {
     "name": "stdout",
     "output_type": "stream",
     "text": [
      "x : (3995, 539) , y : (3995,)\n"
     ]
    }
   ],
   "source": [
    "# training sets\n",
    "x = data.drop(['genre_id', 'track_id'], axis=1)\n",
    "y = data['genre_id'].values\n",
    "\n",
    "print(\"x :\", x.shape, \", y :\", y.shape)"
   ]
  },
  {
   "cell_type": "code",
   "execution_count": 4,
   "metadata": {},
   "outputs": [
    {
     "name": "stdout",
     "output_type": "stream",
     "text": [
      "x_train : (3196, 539) , y_train : (3196,)\n",
      "x_test : (799, 539) , y_test : (799,)\n"
     ]
    }
   ],
   "source": [
    "# split train test\n",
    "x_train, x_test, y_train, y_test = train_test_split(x, y, test_size=0.2, random_state=42)\n",
    "\n",
    "print(\"x_train :\", x_train.shape, \", y_train :\", y_train.shape)\n",
    "print(\"x_test :\", x_test.shape, \", y_test :\", y_test.shape)"
   ]
  },
  {
   "cell_type": "code",
   "execution_count": 5,
   "metadata": {},
   "outputs": [
    {
     "name": "stdout",
     "output_type": "stream",
     "text": [
      "mean_train: -4.3604497104961323e-17. std_train: 0.9999999999999997\n"
     ]
    }
   ],
   "source": [
    "# normalisation\n",
    "scaler = preprocessing.StandardScaler().fit(x_train)\n",
    "x_train = scaler.transform(x_train)\n",
    "x_test = scaler.transform(x_test)\n",
    "\n",
    "mean_train = x_train.mean()\n",
    "std_train = x_train.std()\n",
    "print(f'mean_train: {mean_train}. std_train: {std_train}')"
   ]
  },
  {
   "cell_type": "markdown",
   "metadata": {},
   "source": [
    "## Premier modèle : K nearest neighbors"
   ]
  },
  {
   "cell_type": "code",
   "execution_count": 6,
   "metadata": {},
   "outputs": [
    {
     "data": {
      "text/plain": [
       "KNeighborsClassifier(algorithm='auto', leaf_size=30, metric='minkowski',\n",
       "                     metric_params=None, n_jobs=None, n_neighbors=3, p=2,\n",
       "                     weights='uniform')"
      ]
     },
     "execution_count": 6,
     "metadata": {},
     "output_type": "execute_result"
    }
   ],
   "source": [
    "knn_model = KNeighborsClassifier(n_neighbors=3)\n",
    "knn_model.fit(x_train, y_train)"
   ]
  },
  {
   "cell_type": "code",
   "execution_count": 7,
   "metadata": {},
   "outputs": [
    {
     "name": "stdout",
     "output_type": "stream",
     "text": [
      "              precision    recall  f1-score   support\n",
      "\n",
      "           1       0.71      0.90      0.80       112\n",
      "           2       0.29      0.28      0.29        88\n",
      "           3       0.54      0.61      0.57       111\n",
      "           4       0.44      0.60      0.51       107\n",
      "           5       0.50      0.51      0.50       105\n",
      "           6       0.50      0.18      0.27        94\n",
      "           7       0.38      0.21      0.27        91\n",
      "           8       0.42      0.48      0.45        91\n",
      "\n",
      "    accuracy                           0.49       799\n",
      "   macro avg       0.47      0.47      0.46       799\n",
      "weighted avg       0.48      0.49      0.47       799\n",
      "\n"
     ]
    }
   ],
   "source": [
    "y_pred = knn_model.predict(x_test)\n",
    "print(classification_report(y_test,y_pred))"
   ]
  },
  {
   "cell_type": "markdown",
   "metadata": {},
   "source": [
    "## Deuxième modèle : Decision Tree"
   ]
  },
  {
   "cell_type": "code",
   "execution_count": 8,
   "metadata": {},
   "outputs": [
    {
     "data": {
      "text/plain": [
       "DecisionTreeClassifier(class_weight=None, criterion='gini', max_depth=None,\n",
       "                       max_features=None, max_leaf_nodes=16,\n",
       "                       min_impurity_decrease=0.0, min_impurity_split=None,\n",
       "                       min_samples_leaf=1, min_samples_split=2,\n",
       "                       min_weight_fraction_leaf=0.0, presort=False,\n",
       "                       random_state=None, splitter='best')"
      ]
     },
     "execution_count": 8,
     "metadata": {},
     "output_type": "execute_result"
    }
   ],
   "source": [
    "tree_model = DecisionTreeClassifier(max_leaf_nodes=16, min_samples_split=2)\n",
    "tree_model.fit(x_train, y_train)"
   ]
  },
  {
   "cell_type": "code",
   "execution_count": 9,
   "metadata": {},
   "outputs": [
    {
     "name": "stdout",
     "output_type": "stream",
     "text": [
      "              precision    recall  f1-score   support\n",
      "\n",
      "           1       0.74      0.81      0.77       112\n",
      "           2       0.23      0.26      0.25        88\n",
      "           3       0.55      0.36      0.43       111\n",
      "           4       0.48      0.47      0.47       107\n",
      "           5       0.28      0.54      0.37       105\n",
      "           6       0.30      0.24      0.27        94\n",
      "           7       0.30      0.15      0.20        91\n",
      "           8       0.54      0.42      0.47        91\n",
      "\n",
      "    accuracy                           0.42       799\n",
      "   macro avg       0.43      0.41      0.40       799\n",
      "weighted avg       0.44      0.42      0.42       799\n",
      "\n"
     ]
    }
   ],
   "source": [
    "y_pred = tree_model.predict(x_test)\n",
    "print(classification_report(y_test,y_pred))"
   ]
  },
  {
   "cell_type": "code",
   "execution_count": 10,
   "metadata": {},
   "outputs": [],
   "source": [
    "# Tentative d'optimisation du decision tree\n",
    "\n",
    "# Attention !!! Prend beaucoup de temps d'execution. Valeurs trouvée déjà utilisées précédemment.\n",
    "# Trouvé : max_leaf_nodes = 16 et min_samples_split = 2\n",
    "\n",
    "# optimization\n",
    "# parameters = {'max_leaf_nodes':[x for x in range(2, 20)], 'min_samples_split':[y for y in range(2, 20)]} \n",
    "\n",
    "# grid_search_cv = GridSearchCV(DecisionTreeClassifier(), parameters, scoring='accuracy')\n",
    "# grid_search_cv.fit(x_train, y_train)\n",
    "# grid_search_cv.best_estimator_"
   ]
  },
  {
   "cell_type": "code",
   "execution_count": 11,
   "metadata": {},
   "outputs": [],
   "source": [
    "# y_pred = grid_search_cv.predict(x_test)\n",
    "# print(classification_report(y_test,y_pred))"
   ]
  },
  {
   "cell_type": "markdown",
   "metadata": {},
   "source": [
    "## Troisième modèle : Random Forest"
   ]
  },
  {
   "cell_type": "code",
   "execution_count": 12,
   "metadata": {},
   "outputs": [
    {
     "name": "stderr",
     "output_type": "stream",
     "text": [
      "/home/janerussel/anaconda3/envs/IA/lib/python3.7/site-packages/sklearn/ensemble/forest.py:245: FutureWarning: The default value of n_estimators will change from 10 in version 0.20 to 100 in 0.22.\n",
      "  \"10 in version 0.20 to 100 in 0.22.\", FutureWarning)\n"
     ]
    },
    {
     "data": {
      "text/plain": [
       "RandomForestClassifier(bootstrap=True, class_weight=None, criterion='gini',\n",
       "                       max_depth=None, max_features='auto', max_leaf_nodes=16,\n",
       "                       min_impurity_decrease=0.0, min_impurity_split=None,\n",
       "                       min_samples_leaf=1, min_samples_split=2,\n",
       "                       min_weight_fraction_leaf=0.0, n_estimators=10,\n",
       "                       n_jobs=None, oob_score=False, random_state=None,\n",
       "                       verbose=0, warm_start=False)"
      ]
     },
     "execution_count": 12,
     "metadata": {},
     "output_type": "execute_result"
    }
   ],
   "source": [
    "forest_model = RandomForestClassifier(max_leaf_nodes=16, min_samples_split=2)\n",
    "forest_model.fit(x_train, y_train)"
   ]
  },
  {
   "cell_type": "code",
   "execution_count": 13,
   "metadata": {},
   "outputs": [
    {
     "name": "stdout",
     "output_type": "stream",
     "text": [
      "              precision    recall  f1-score   support\n",
      "\n",
      "           1       0.66      0.86      0.74       112\n",
      "           2       0.34      0.28      0.31        88\n",
      "           3       0.51      0.54      0.52       111\n",
      "           4       0.46      0.67      0.54       107\n",
      "           5       0.35      0.33      0.34       105\n",
      "           6       0.42      0.23      0.30        94\n",
      "           7       0.11      0.02      0.04        91\n",
      "           8       0.43      0.63      0.51        91\n",
      "\n",
      "    accuracy                           0.46       799\n",
      "   macro avg       0.41      0.45      0.41       799\n",
      "weighted avg       0.42      0.46      0.43       799\n",
      "\n"
     ]
    }
   ],
   "source": [
    "y_pred = forest_model.predict(x_test)\n",
    "print(classification_report(y_test,y_pred))"
   ]
  },
  {
   "cell_type": "markdown",
   "metadata": {},
   "source": [
    "## Quatrième méthode : Gradient Boosting"
   ]
  },
  {
   "cell_type": "code",
   "execution_count": 14,
   "metadata": {},
   "outputs": [
    {
     "data": {
      "text/plain": [
       "GradientBoostingClassifier(criterion='friedman_mse', init=None,\n",
       "                           learning_rate=0.1, loss='deviance', max_depth=3,\n",
       "                           max_features=None, max_leaf_nodes=None,\n",
       "                           min_impurity_decrease=0.0, min_impurity_split=None,\n",
       "                           min_samples_leaf=1, min_samples_split=2,\n",
       "                           min_weight_fraction_leaf=0.0, n_estimators=100,\n",
       "                           n_iter_no_change=None, presort='auto',\n",
       "                           random_state=None, subsample=1.0, tol=0.0001,\n",
       "                           validation_fraction=0.1, verbose=0,\n",
       "                           warm_start=False)"
      ]
     },
     "execution_count": 14,
     "metadata": {},
     "output_type": "execute_result"
    }
   ],
   "source": [
    "gradient_model = GradientBoostingClassifier()\n",
    "gradient_model.fit(x_train, y_train)"
   ]
  },
  {
   "cell_type": "code",
   "execution_count": 15,
   "metadata": {},
   "outputs": [
    {
     "name": "stdout",
     "output_type": "stream",
     "text": [
      "              precision    recall  f1-score   support\n",
      "\n",
      "           1       0.84      0.88      0.86       112\n",
      "           2       0.43      0.48      0.45        88\n",
      "           3       0.69      0.59      0.64       111\n",
      "           4       0.61      0.63      0.62       107\n",
      "           5       0.54      0.53      0.54       105\n",
      "           6       0.49      0.48      0.49        94\n",
      "           7       0.22      0.22      0.22        91\n",
      "           8       0.50      0.53      0.51        91\n",
      "\n",
      "    accuracy                           0.55       799\n",
      "   macro avg       0.54      0.54      0.54       799\n",
      "weighted avg       0.56      0.55      0.55       799\n",
      "\n"
     ]
    }
   ],
   "source": [
    "y_pred = gradient_model.predict(x_test)\n",
    "print(classification_report(y_test,y_pred))"
   ]
  },
  {
   "cell_type": "markdown",
   "metadata": {},
   "source": [
    "## Cinquième méthode : XGBoost"
   ]
  },
  {
   "cell_type": "code",
   "execution_count": 16,
   "metadata": {},
   "outputs": [
    {
     "data": {
      "text/plain": [
       "XGBClassifier(base_score=0.5, booster='gbtree', colsample_bylevel=1,\n",
       "              colsample_bynode=1, colsample_bytree=1, gamma=0,\n",
       "              learning_rate=0.1, max_delta_step=0, max_depth=3,\n",
       "              min_child_weight=1, missing=None, n_estimators=100, n_jobs=1,\n",
       "              nthread=None, objective='multi:softprob', random_state=0,\n",
       "              reg_alpha=0, reg_lambda=1, scale_pos_weight=1, seed=None,\n",
       "              silent=None, subsample=1, verbosity=1)"
      ]
     },
     "execution_count": 16,
     "metadata": {},
     "output_type": "execute_result"
    }
   ],
   "source": [
    "xgb_model = xgb.XGBClassifier()\n",
    "xgb_model.fit(x_train, y_train)"
   ]
  },
  {
   "cell_type": "code",
   "execution_count": 17,
   "metadata": {},
   "outputs": [
    {
     "name": "stdout",
     "output_type": "stream",
     "text": [
      "              precision    recall  f1-score   support\n",
      "\n",
      "           1       0.82      0.91      0.86       112\n",
      "           2       0.43      0.49      0.46        88\n",
      "           3       0.71      0.60      0.65       111\n",
      "           4       0.60      0.68      0.64       107\n",
      "           5       0.46      0.46      0.46       105\n",
      "           6       0.51      0.44      0.47        94\n",
      "           7       0.24      0.21      0.22        91\n",
      "           8       0.55      0.57      0.56        91\n",
      "\n",
      "    accuracy                           0.56       799\n",
      "   macro avg       0.54      0.54      0.54       799\n",
      "weighted avg       0.55      0.56      0.55       799\n",
      "\n"
     ]
    }
   ],
   "source": [
    "y_pred = xgb_model.predict(x_test)\n",
    "print(classification_report(y_test,y_pred))"
   ]
  },
  {
   "cell_type": "markdown",
   "metadata": {},
   "source": [
    "## Tuning XGBoost"
   ]
  },
  {
   "cell_type": "code",
   "execution_count": 18,
   "metadata": {},
   "outputs": [],
   "source": [
    "# Tentative d'optimisation\n",
    "\n",
    "# mauvaise idée : temps d'execution infini avec ce nombre de paramètres\n",
    "\n",
    "# parameters = {'n_estimators':[n for n in range(100, 200, 10)], 'learning_rate':[x/100 for x in range(5, 30)], 'max_depth':[y for y in range(3, 10)], 'min_child_weight':[z for z in range(1, 6)]} \n",
    "# grid_search_cv = GridSearchCV(xgb.XGBClassifier(), parameters, scoring='accuracy')\n",
    "# grid_search_cv.fit(x_train, y_train)\n",
    "# grid_search_cv.best_estimator_"
   ]
  },
  {
   "cell_type": "code",
   "execution_count": 19,
   "metadata": {},
   "outputs": [
    {
     "data": {
      "text/plain": [
       "XGBClassifier(base_score=0.5, booster='gbtree', colsample_bylevel=1,\n",
       "              colsample_bynode=1, colsample_bytree=1, gamma=0,\n",
       "              learning_rate=0.2, max_delta_step=0, max_depth=5,\n",
       "              min_child_weight=3, missing=None, n_estimators=180, n_jobs=1,\n",
       "              nthread=None, objective='multi:softprob', random_state=0,\n",
       "              reg_alpha=0, reg_lambda=1, scale_pos_weight=1, seed=None,\n",
       "              silent=None, subsample=1, verbosity=1)"
      ]
     },
     "execution_count": 19,
     "metadata": {},
     "output_type": "execute_result"
    }
   ],
   "source": [
    "xgb_model = xgb.XGBClassifier(n_estimators=180, learning_rate=0.2, max_depth=5, min_child_weight=3)\n",
    "xgb_model.fit(x_train, y_train)"
   ]
  },
  {
   "cell_type": "code",
   "execution_count": 20,
   "metadata": {},
   "outputs": [
    {
     "name": "stdout",
     "output_type": "stream",
     "text": [
      "              precision    recall  f1-score   support\n",
      "\n",
      "           1       0.83      0.90      0.87       112\n",
      "           2       0.44      0.48      0.46        88\n",
      "           3       0.71      0.67      0.69       111\n",
      "           4       0.62      0.75      0.68       107\n",
      "           5       0.57      0.52      0.55       105\n",
      "           6       0.54      0.48      0.51        94\n",
      "           7       0.28      0.26      0.27        91\n",
      "           8       0.59      0.55      0.57        91\n",
      "\n",
      "    accuracy                           0.59       799\n",
      "   macro avg       0.57      0.58      0.57       799\n",
      "weighted avg       0.59      0.59      0.59       799\n",
      "\n"
     ]
    }
   ],
   "source": [
    "y_pred = xgb_model.predict(x_test)\n",
    "print(classification_report(y_test,y_pred))"
   ]
  },
  {
   "cell_type": "code",
   "execution_count": 21,
   "metadata": {},
   "outputs": [],
   "source": [
    "# paramètres testés pour xgboost et résultats d'accuracy\n",
    "\n",
    "# n_estimators=150, learning_rate=0.2, max_depth=3, min_child_weight=1  --------> 0.58\n",
    "# n_estimators=150, learning_rate=0.2, max_depth=5, min_child_weight=1  --------> 0.58\n",
    "# n_estimators=180, learning_rate=0.2, max_depth=5, min_child_weight=3  --------> 0.59\n",
    "# n_estimators=180, learning_rate=0.25, max_depth=5, min_child_weight=3  -------> 0.58\n",
    "# n_estimators=170, learning_rate=0.2, max_depth=7, min_child_weight=3  --------> 0.58\n",
    "# n_estimators=180, learning_rate=0.15, max_depth=5, min_child_weight=3  -------> 0.58\n",
    "# n_estimators=200, learning_rate=0.1, max_depth=5, min_child_weight=3  --------> 0.58\n",
    "# n_estimators=200, learning_rate=0.2, max_depth=3, min_child_weight=1  --------> 0.59"
   ]
  }
 ],
 "metadata": {
  "kernelspec": {
   "display_name": "Python 3",
   "language": "python",
   "name": "python3"
  },
  "language_info": {
   "codemirror_mode": {
    "name": "ipython",
    "version": 3
   },
   "file_extension": ".py",
   "mimetype": "text/x-python",
   "name": "python",
   "nbconvert_exporter": "python",
   "pygments_lexer": "ipython3",
   "version": "3.7.4"
  }
 },
 "nbformat": 4,
 "nbformat_minor": 2
}
