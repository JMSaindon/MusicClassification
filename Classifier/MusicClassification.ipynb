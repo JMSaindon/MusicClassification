{
 "cells": [
  {
   "cell_type": "code",
   "execution_count": 14,
   "metadata": {},
   "outputs": [],
   "source": [
    "import numpy as np\n",
    "import pandas as pd\n",
    "import xgboost as xgb\n",
    "\n",
    "from sklearn.model_selection import train_test_split\n",
    "from sklearn import preprocessing\n",
    "from sklearn.metrics import classification_report\n",
    "from sklearn.neighbors import KNeighborsClassifier\n",
    "from sklearn.tree import DecisionTreeClassifier\n",
    "from sklearn.model_selection import GridSearchCV\n",
    "from sklearn.ensemble import RandomForestClassifier, GradientBoostingClassifier"
   ]
  },
  {
   "cell_type": "code",
   "execution_count": 2,
   "metadata": {},
   "outputs": [
    {
     "name": "stdout",
     "output_type": "stream",
     "text": [
      "data merged : (3995, 541) , train genre : (3995, 2) , train data : (3997, 540)\n"
     ]
    },
    {
     "data": {
      "text/html": [
       "<div>\n",
       "<style scoped>\n",
       "    .dataframe tbody tr th:only-of-type {\n",
       "        vertical-align: middle;\n",
       "    }\n",
       "\n",
       "    .dataframe tbody tr th {\n",
       "        vertical-align: top;\n",
       "    }\n",
       "\n",
       "    .dataframe thead th {\n",
       "        text-align: right;\n",
       "    }\n",
       "</style>\n",
       "<table border=\"1\" class=\"dataframe\">\n",
       "  <thead>\n",
       "    <tr style=\"text-align: right;\">\n",
       "      <th></th>\n",
       "      <th>track_id</th>\n",
       "      <th>genre_id</th>\n",
       "      <th>chroma_cens.1.kurtosis</th>\n",
       "      <th>chroma_cens.2.kurtosis</th>\n",
       "      <th>chroma_cens.3.kurtosis</th>\n",
       "      <th>chroma_cens.4.kurtosis</th>\n",
       "      <th>chroma_cens.5.kurtosis</th>\n",
       "      <th>chroma_cens.6.kurtosis</th>\n",
       "      <th>chroma_cens.7.kurtosis</th>\n",
       "      <th>chroma_cens.8.kurtosis</th>\n",
       "      <th>...</th>\n",
       "      <th>spectral_flatness.1.mean</th>\n",
       "      <th>spectral_flatness.1.std</th>\n",
       "      <th>spectral_flatness.1.median</th>\n",
       "      <th>zero_crossing_rate.1.kurtosis</th>\n",
       "      <th>zero_crossing_rate.1.skew</th>\n",
       "      <th>zero_crossing_rate.1.amax</th>\n",
       "      <th>zero_crossing_rate.1.amin</th>\n",
       "      <th>zero_crossing_rate.1.mean</th>\n",
       "      <th>zero_crossing_rate.1.std</th>\n",
       "      <th>zero_crossing_rate.1.median</th>\n",
       "    </tr>\n",
       "  </thead>\n",
       "  <tbody>\n",
       "    <tr>\n",
       "      <td>1562</td>\n",
       "      <td>57168</td>\n",
       "      <td>3</td>\n",
       "      <td>-0.326656</td>\n",
       "      <td>0.484104</td>\n",
       "      <td>-0.400976</td>\n",
       "      <td>-0.100960</td>\n",
       "      <td>0.814617</td>\n",
       "      <td>-0.359780</td>\n",
       "      <td>-0.100650</td>\n",
       "      <td>6.488883</td>\n",
       "      <td>...</td>\n",
       "      <td>0.001846</td>\n",
       "      <td>0.004176</td>\n",
       "      <td>0.000424</td>\n",
       "      <td>9.269056</td>\n",
       "      <td>2.813545</td>\n",
       "      <td>0.428223</td>\n",
       "      <td>0.007812</td>\n",
       "      <td>0.078718</td>\n",
       "      <td>0.063277</td>\n",
       "      <td>0.064453</td>\n",
       "    </tr>\n",
       "    <tr>\n",
       "      <td>3070</td>\n",
       "      <td>117943</td>\n",
       "      <td>5</td>\n",
       "      <td>-0.322007</td>\n",
       "      <td>-1.594685</td>\n",
       "      <td>3.890751</td>\n",
       "      <td>12.641701</td>\n",
       "      <td>6.267424</td>\n",
       "      <td>1.976586</td>\n",
       "      <td>-0.733960</td>\n",
       "      <td>-1.289568</td>\n",
       "      <td>...</td>\n",
       "      <td>0.008228</td>\n",
       "      <td>0.034918</td>\n",
       "      <td>0.000259</td>\n",
       "      <td>31.236550</td>\n",
       "      <td>4.879776</td>\n",
       "      <td>0.417480</td>\n",
       "      <td>0.001953</td>\n",
       "      <td>0.029873</td>\n",
       "      <td>0.043424</td>\n",
       "      <td>0.017090</td>\n",
       "    </tr>\n",
       "    <tr>\n",
       "      <td>2942</td>\n",
       "      <td>113034</td>\n",
       "      <td>4</td>\n",
       "      <td>-0.806977</td>\n",
       "      <td>-0.259791</td>\n",
       "      <td>0.930923</td>\n",
       "      <td>0.742254</td>\n",
       "      <td>-0.027599</td>\n",
       "      <td>0.149701</td>\n",
       "      <td>-0.532040</td>\n",
       "      <td>0.345915</td>\n",
       "      <td>...</td>\n",
       "      <td>0.004258</td>\n",
       "      <td>0.007339</td>\n",
       "      <td>0.001445</td>\n",
       "      <td>9.699513</td>\n",
       "      <td>2.753354</td>\n",
       "      <td>0.417969</td>\n",
       "      <td>0.001465</td>\n",
       "      <td>0.059400</td>\n",
       "      <td>0.060807</td>\n",
       "      <td>0.041992</td>\n",
       "    </tr>\n",
       "    <tr>\n",
       "      <td>2109</td>\n",
       "      <td>73172</td>\n",
       "      <td>3</td>\n",
       "      <td>-0.592592</td>\n",
       "      <td>0.459068</td>\n",
       "      <td>1.659597</td>\n",
       "      <td>-0.128133</td>\n",
       "      <td>-0.432241</td>\n",
       "      <td>-0.258269</td>\n",
       "      <td>2.083415</td>\n",
       "      <td>0.129092</td>\n",
       "      <td>...</td>\n",
       "      <td>0.000011</td>\n",
       "      <td>0.000015</td>\n",
       "      <td>0.000007</td>\n",
       "      <td>4.955555</td>\n",
       "      <td>1.597445</td>\n",
       "      <td>0.048828</td>\n",
       "      <td>0.004883</td>\n",
       "      <td>0.013886</td>\n",
       "      <td>0.004481</td>\n",
       "      <td>0.012695</td>\n",
       "    </tr>\n",
       "    <tr>\n",
       "      <td>624</td>\n",
       "      <td>24368</td>\n",
       "      <td>5</td>\n",
       "      <td>-0.172815</td>\n",
       "      <td>0.419096</td>\n",
       "      <td>0.520159</td>\n",
       "      <td>0.540396</td>\n",
       "      <td>0.987491</td>\n",
       "      <td>0.766640</td>\n",
       "      <td>0.082191</td>\n",
       "      <td>0.862059</td>\n",
       "      <td>...</td>\n",
       "      <td>0.000445</td>\n",
       "      <td>0.019664</td>\n",
       "      <td>0.000050</td>\n",
       "      <td>1.883174</td>\n",
       "      <td>0.874321</td>\n",
       "      <td>0.142090</td>\n",
       "      <td>0.000000</td>\n",
       "      <td>0.057609</td>\n",
       "      <td>0.017824</td>\n",
       "      <td>0.055664</td>\n",
       "    </tr>\n",
       "    <tr>\n",
       "      <td>1713</td>\n",
       "      <td>61529</td>\n",
       "      <td>4</td>\n",
       "      <td>-0.281388</td>\n",
       "      <td>-0.756576</td>\n",
       "      <td>-0.805845</td>\n",
       "      <td>0.101481</td>\n",
       "      <td>0.746809</td>\n",
       "      <td>0.016206</td>\n",
       "      <td>1.001236</td>\n",
       "      <td>1.940711</td>\n",
       "      <td>...</td>\n",
       "      <td>0.020932</td>\n",
       "      <td>0.034069</td>\n",
       "      <td>0.007706</td>\n",
       "      <td>1.877174</td>\n",
       "      <td>1.506563</td>\n",
       "      <td>0.429199</td>\n",
       "      <td>0.003418</td>\n",
       "      <td>0.121846</td>\n",
       "      <td>0.087218</td>\n",
       "      <td>0.098633</td>\n",
       "    </tr>\n",
       "    <tr>\n",
       "      <td>2768</td>\n",
       "      <td>107597</td>\n",
       "      <td>3</td>\n",
       "      <td>0.047760</td>\n",
       "      <td>-1.223922</td>\n",
       "      <td>-0.633841</td>\n",
       "      <td>-0.115228</td>\n",
       "      <td>3.096759</td>\n",
       "      <td>0.311119</td>\n",
       "      <td>-1.027571</td>\n",
       "      <td>-0.892695</td>\n",
       "      <td>...</td>\n",
       "      <td>0.000016</td>\n",
       "      <td>0.000037</td>\n",
       "      <td>0.000007</td>\n",
       "      <td>24.062437</td>\n",
       "      <td>3.996108</td>\n",
       "      <td>0.122559</td>\n",
       "      <td>0.002930</td>\n",
       "      <td>0.017462</td>\n",
       "      <td>0.011371</td>\n",
       "      <td>0.014160</td>\n",
       "    </tr>\n",
       "    <tr>\n",
       "      <td>18</td>\n",
       "      <td>684</td>\n",
       "      <td>4</td>\n",
       "      <td>-0.104590</td>\n",
       "      <td>-0.046719</td>\n",
       "      <td>-0.187148</td>\n",
       "      <td>0.037519</td>\n",
       "      <td>-0.897400</td>\n",
       "      <td>0.629414</td>\n",
       "      <td>-0.790080</td>\n",
       "      <td>-0.593534</td>\n",
       "      <td>...</td>\n",
       "      <td>0.000374</td>\n",
       "      <td>0.001026</td>\n",
       "      <td>0.000087</td>\n",
       "      <td>20.809174</td>\n",
       "      <td>4.012769</td>\n",
       "      <td>0.334961</td>\n",
       "      <td>0.003906</td>\n",
       "      <td>0.037083</td>\n",
       "      <td>0.038637</td>\n",
       "      <td>0.026855</td>\n",
       "    </tr>\n",
       "    <tr>\n",
       "      <td>1366</td>\n",
       "      <td>51577</td>\n",
       "      <td>2</td>\n",
       "      <td>-0.907425</td>\n",
       "      <td>-0.964249</td>\n",
       "      <td>-0.334448</td>\n",
       "      <td>-0.163990</td>\n",
       "      <td>-0.602353</td>\n",
       "      <td>-1.323662</td>\n",
       "      <td>-1.288337</td>\n",
       "      <td>-1.293222</td>\n",
       "      <td>...</td>\n",
       "      <td>0.001221</td>\n",
       "      <td>0.003252</td>\n",
       "      <td>0.000260</td>\n",
       "      <td>9.279628</td>\n",
       "      <td>2.761881</td>\n",
       "      <td>0.175293</td>\n",
       "      <td>0.001953</td>\n",
       "      <td>0.025776</td>\n",
       "      <td>0.023679</td>\n",
       "      <td>0.018555</td>\n",
       "    </tr>\n",
       "    <tr>\n",
       "      <td>3033</td>\n",
       "      <td>115700</td>\n",
       "      <td>2</td>\n",
       "      <td>1.255773</td>\n",
       "      <td>-0.005038</td>\n",
       "      <td>0.277790</td>\n",
       "      <td>0.515823</td>\n",
       "      <td>2.136545</td>\n",
       "      <td>1.927928</td>\n",
       "      <td>1.118122</td>\n",
       "      <td>-0.240280</td>\n",
       "      <td>...</td>\n",
       "      <td>0.018964</td>\n",
       "      <td>0.004128</td>\n",
       "      <td>0.018609</td>\n",
       "      <td>0.214716</td>\n",
       "      <td>0.154591</td>\n",
       "      <td>0.103027</td>\n",
       "      <td>0.035645</td>\n",
       "      <td>0.067305</td>\n",
       "      <td>0.007726</td>\n",
       "      <td>0.066895</td>\n",
       "    </tr>\n",
       "  </tbody>\n",
       "</table>\n",
       "<p>10 rows × 541 columns</p>\n",
       "</div>"
      ],
      "text/plain": [
       "      track_id  genre_id  chroma_cens.1.kurtosis  chroma_cens.2.kurtosis  \\\n",
       "1562     57168         3               -0.326656                0.484104   \n",
       "3070    117943         5               -0.322007               -1.594685   \n",
       "2942    113034         4               -0.806977               -0.259791   \n",
       "2109     73172         3               -0.592592                0.459068   \n",
       "624      24368         5               -0.172815                0.419096   \n",
       "1713     61529         4               -0.281388               -0.756576   \n",
       "2768    107597         3                0.047760               -1.223922   \n",
       "18         684         4               -0.104590               -0.046719   \n",
       "1366     51577         2               -0.907425               -0.964249   \n",
       "3033    115700         2                1.255773               -0.005038   \n",
       "\n",
       "      chroma_cens.3.kurtosis  chroma_cens.4.kurtosis  chroma_cens.5.kurtosis  \\\n",
       "1562               -0.400976               -0.100960                0.814617   \n",
       "3070                3.890751               12.641701                6.267424   \n",
       "2942                0.930923                0.742254               -0.027599   \n",
       "2109                1.659597               -0.128133               -0.432241   \n",
       "624                 0.520159                0.540396                0.987491   \n",
       "1713               -0.805845                0.101481                0.746809   \n",
       "2768               -0.633841               -0.115228                3.096759   \n",
       "18                 -0.187148                0.037519               -0.897400   \n",
       "1366               -0.334448               -0.163990               -0.602353   \n",
       "3033                0.277790                0.515823                2.136545   \n",
       "\n",
       "      chroma_cens.6.kurtosis  chroma_cens.7.kurtosis  chroma_cens.8.kurtosis  \\\n",
       "1562               -0.359780               -0.100650                6.488883   \n",
       "3070                1.976586               -0.733960               -1.289568   \n",
       "2942                0.149701               -0.532040                0.345915   \n",
       "2109               -0.258269                2.083415                0.129092   \n",
       "624                 0.766640                0.082191                0.862059   \n",
       "1713                0.016206                1.001236                1.940711   \n",
       "2768                0.311119               -1.027571               -0.892695   \n",
       "18                  0.629414               -0.790080               -0.593534   \n",
       "1366               -1.323662               -1.288337               -1.293222   \n",
       "3033                1.927928                1.118122               -0.240280   \n",
       "\n",
       "      ...  spectral_flatness.1.mean  spectral_flatness.1.std  \\\n",
       "1562  ...                  0.001846                 0.004176   \n",
       "3070  ...                  0.008228                 0.034918   \n",
       "2942  ...                  0.004258                 0.007339   \n",
       "2109  ...                  0.000011                 0.000015   \n",
       "624   ...                  0.000445                 0.019664   \n",
       "1713  ...                  0.020932                 0.034069   \n",
       "2768  ...                  0.000016                 0.000037   \n",
       "18    ...                  0.000374                 0.001026   \n",
       "1366  ...                  0.001221                 0.003252   \n",
       "3033  ...                  0.018964                 0.004128   \n",
       "\n",
       "      spectral_flatness.1.median  zero_crossing_rate.1.kurtosis  \\\n",
       "1562                    0.000424                       9.269056   \n",
       "3070                    0.000259                      31.236550   \n",
       "2942                    0.001445                       9.699513   \n",
       "2109                    0.000007                       4.955555   \n",
       "624                     0.000050                       1.883174   \n",
       "1713                    0.007706                       1.877174   \n",
       "2768                    0.000007                      24.062437   \n",
       "18                      0.000087                      20.809174   \n",
       "1366                    0.000260                       9.279628   \n",
       "3033                    0.018609                       0.214716   \n",
       "\n",
       "      zero_crossing_rate.1.skew  zero_crossing_rate.1.amax  \\\n",
       "1562                   2.813545                   0.428223   \n",
       "3070                   4.879776                   0.417480   \n",
       "2942                   2.753354                   0.417969   \n",
       "2109                   1.597445                   0.048828   \n",
       "624                    0.874321                   0.142090   \n",
       "1713                   1.506563                   0.429199   \n",
       "2768                   3.996108                   0.122559   \n",
       "18                     4.012769                   0.334961   \n",
       "1366                   2.761881                   0.175293   \n",
       "3033                   0.154591                   0.103027   \n",
       "\n",
       "      zero_crossing_rate.1.amin  zero_crossing_rate.1.mean  \\\n",
       "1562                   0.007812                   0.078718   \n",
       "3070                   0.001953                   0.029873   \n",
       "2942                   0.001465                   0.059400   \n",
       "2109                   0.004883                   0.013886   \n",
       "624                    0.000000                   0.057609   \n",
       "1713                   0.003418                   0.121846   \n",
       "2768                   0.002930                   0.017462   \n",
       "18                     0.003906                   0.037083   \n",
       "1366                   0.001953                   0.025776   \n",
       "3033                   0.035645                   0.067305   \n",
       "\n",
       "      zero_crossing_rate.1.std  zero_crossing_rate.1.median  \n",
       "1562                  0.063277                     0.064453  \n",
       "3070                  0.043424                     0.017090  \n",
       "2942                  0.060807                     0.041992  \n",
       "2109                  0.004481                     0.012695  \n",
       "624                   0.017824                     0.055664  \n",
       "1713                  0.087218                     0.098633  \n",
       "2768                  0.011371                     0.014160  \n",
       "18                    0.038637                     0.026855  \n",
       "1366                  0.023679                     0.018555  \n",
       "3033                  0.007726                     0.066895  \n",
       "\n",
       "[10 rows x 541 columns]"
      ]
     },
     "execution_count": 2,
     "metadata": {},
     "output_type": "execute_result"
    }
   ],
   "source": [
    "# Croisement features/tracks du dataset train\n",
    "traingenre = pd.read_csv(filepath_or_buffer=\"train_clean.csv\", sep=\",\")\n",
    "datatrain = pd.read_csv(filepath_or_buffer=\"train_data.csv\", sep=\",\")\n",
    "\n",
    "data = pd.merge(traingenre, datatrain, on='track_id')\n",
    "print(\"data merged :\",data.shape, \", train genre :\", traingenre.shape, \", train data :\", datatrain.shape)\n",
    "data.sample(n=10)"
   ]
  },
  {
   "cell_type": "code",
   "execution_count": 3,
   "metadata": {},
   "outputs": [
    {
     "name": "stdout",
     "output_type": "stream",
     "text": [
      "x : (3995, 539) , y : (3995,)\n"
     ]
    }
   ],
   "source": [
    "# training sets\n",
    "x = data.drop(['genre_id', 'track_id'], axis=1)\n",
    "y = data['genre_id'].values\n",
    "\n",
    "print(\"x :\", x.shape, \", y :\", y.shape)"
   ]
  },
  {
   "cell_type": "code",
   "execution_count": 4,
   "metadata": {},
   "outputs": [
    {
     "name": "stdout",
     "output_type": "stream",
     "text": [
      "x_train : (3196, 539) , y_train : (3196,)\n",
      "x_test : (799, 539) , y_test : (799,)\n"
     ]
    }
   ],
   "source": [
    "# split train test\n",
    "x_train, x_test, y_train, y_test = train_test_split(x, y, test_size=0.2, random_state=42)\n",
    "\n",
    "print(\"x_train :\", x_train.shape, \", y_train :\", y_train.shape)\n",
    "print(\"x_test :\", x_test.shape, \", y_test :\", y_test.shape)"
   ]
  },
  {
   "cell_type": "code",
   "execution_count": 5,
   "metadata": {},
   "outputs": [
    {
     "name": "stdout",
     "output_type": "stream",
     "text": [
      "mean_train: -4.3604497104961323e-17. std_train: 0.9999999999999997\n"
     ]
    }
   ],
   "source": [
    "# normalisation\n",
    "scaler = preprocessing.StandardScaler().fit(x_train)\n",
    "x_train = scaler.transform(x_train)\n",
    "x_test = scaler.transform(x_test)\n",
    "\n",
    "mean_train = x_train.mean()\n",
    "std_train = x_train.std()\n",
    "print(f'mean_train: {mean_train}. std_train: {std_train}')"
   ]
  },
  {
   "cell_type": "markdown",
   "metadata": {},
   "source": [
    "## Premier modèle testé : K nearest neighbors"
   ]
  },
  {
   "cell_type": "code",
   "execution_count": 6,
   "metadata": {},
   "outputs": [
    {
     "data": {
      "text/plain": [
       "KNeighborsClassifier(algorithm='auto', leaf_size=30, metric='minkowski',\n",
       "                     metric_params=None, n_jobs=None, n_neighbors=1, p=2,\n",
       "                     weights='uniform')"
      ]
     },
     "execution_count": 6,
     "metadata": {},
     "output_type": "execute_result"
    }
   ],
   "source": [
    "knn_model = KNeighborsClassifier(n_neighbors=1)\n",
    "knn_model.fit(x_train, y_train)"
   ]
  },
  {
   "cell_type": "code",
   "execution_count": 7,
   "metadata": {},
   "outputs": [
    {
     "name": "stdout",
     "output_type": "stream",
     "text": [
      "              precision    recall  f1-score   support\n",
      "\n",
      "           1       0.79      0.85      0.82       112\n",
      "           2       0.30      0.16      0.21        88\n",
      "           3       0.54      0.46      0.50       111\n",
      "           4       0.47      0.58      0.52       107\n",
      "           5       0.41      0.50      0.45       105\n",
      "           6       0.40      0.24      0.30        94\n",
      "           7       0.21      0.22      0.22        91\n",
      "           8       0.40      0.54      0.46        91\n",
      "\n",
      "    accuracy                           0.46       799\n",
      "   macro avg       0.44      0.44      0.43       799\n",
      "weighted avg       0.45      0.46      0.45       799\n",
      "\n"
     ]
    }
   ],
   "source": [
    "y_pred = knn_model.predict(x_test)\n",
    "print(classification_report(y_test,y_pred))"
   ]
  },
  {
   "cell_type": "markdown",
   "metadata": {},
   "source": [
    "## Deuxième modèle : Decision Tree"
   ]
  },
  {
   "cell_type": "code",
   "execution_count": 8,
   "metadata": {},
   "outputs": [
    {
     "data": {
      "text/plain": [
       "DecisionTreeClassifier(class_weight=None, criterion='gini', max_depth=None,\n",
       "                       max_features=None, max_leaf_nodes=16,\n",
       "                       min_impurity_decrease=0.0, min_impurity_split=None,\n",
       "                       min_samples_leaf=1, min_samples_split=2,\n",
       "                       min_weight_fraction_leaf=0.0, presort=False,\n",
       "                       random_state=None, splitter='best')"
      ]
     },
     "execution_count": 8,
     "metadata": {},
     "output_type": "execute_result"
    }
   ],
   "source": [
    "tree_model = DecisionTreeClassifier(max_leaf_nodes=16, min_samples_split=2)\n",
    "tree_model.fit(x_train, y_train)"
   ]
  },
  {
   "cell_type": "code",
   "execution_count": 9,
   "metadata": {},
   "outputs": [
    {
     "name": "stdout",
     "output_type": "stream",
     "text": [
      "              precision    recall  f1-score   support\n",
      "\n",
      "           1       0.74      0.81      0.77       112\n",
      "           2       0.23      0.26      0.25        88\n",
      "           3       0.55      0.36      0.43       111\n",
      "           4       0.48      0.47      0.47       107\n",
      "           5       0.28      0.54      0.37       105\n",
      "           6       0.30      0.24      0.27        94\n",
      "           7       0.30      0.15      0.20        91\n",
      "           8       0.54      0.42      0.47        91\n",
      "\n",
      "    accuracy                           0.42       799\n",
      "   macro avg       0.43      0.41      0.40       799\n",
      "weighted avg       0.44      0.42      0.42       799\n",
      "\n"
     ]
    }
   ],
   "source": [
    "y_pred = tree_model.predict(x_test)\n",
    "print(classification_report(y_test,y_pred))"
   ]
  },
  {
   "cell_type": "code",
   "execution_count": 10,
   "metadata": {},
   "outputs": [],
   "source": [
    "# Attention !!! Prend beaucoup de temps d'execution. Valeurs trouvée déjà utilisées précédemment.\n",
    "# Trouvé : max_leaf_nodes = 16 et min_samples_split = 2\n",
    "\n",
    "# optimization\n",
    "# parameters = {'max_leaf_nodes':[x for x in range(2, 20)], 'min_samples_split':[y for y in range(2, 20)]} \n",
    "\n",
    "# grid_search_cv = GridSearchCV(DecisionTreeClassifier(), parameters, scoring='accuracy')\n",
    "# grid_search_cv.fit(x_train, y_train)\n",
    "# grid_search_cv.best_estimator_"
   ]
  },
  {
   "cell_type": "code",
   "execution_count": 11,
   "metadata": {},
   "outputs": [],
   "source": [
    "# y_pred = grid_search_cv.predict(x_test)\n",
    "# print(classification_report(y_test,y_pred))"
   ]
  },
  {
   "cell_type": "markdown",
   "metadata": {},
   "source": [
    "## Troisième modèle : Random Forest"
   ]
  },
  {
   "cell_type": "code",
   "execution_count": 12,
   "metadata": {},
   "outputs": [
    {
     "name": "stderr",
     "output_type": "stream",
     "text": [
      "/home/janerussel/anaconda3/envs/IA/lib/python3.7/site-packages/sklearn/ensemble/forest.py:245: FutureWarning: The default value of n_estimators will change from 10 in version 0.20 to 100 in 0.22.\n",
      "  \"10 in version 0.20 to 100 in 0.22.\", FutureWarning)\n"
     ]
    },
    {
     "data": {
      "text/plain": [
       "RandomForestClassifier(bootstrap=True, class_weight=None, criterion='gini',\n",
       "                       max_depth=None, max_features='auto', max_leaf_nodes=16,\n",
       "                       min_impurity_decrease=0.0, min_impurity_split=None,\n",
       "                       min_samples_leaf=1, min_samples_split=2,\n",
       "                       min_weight_fraction_leaf=0.0, n_estimators=10,\n",
       "                       n_jobs=None, oob_score=False, random_state=None,\n",
       "                       verbose=0, warm_start=False)"
      ]
     },
     "execution_count": 12,
     "metadata": {},
     "output_type": "execute_result"
    }
   ],
   "source": [
    "forest_model = RandomForestClassifier(max_leaf_nodes=16, min_samples_split=2)\n",
    "forest_model.fit(x_train, y_train)"
   ]
  },
  {
   "cell_type": "code",
   "execution_count": 13,
   "metadata": {},
   "outputs": [
    {
     "name": "stdout",
     "output_type": "stream",
     "text": [
      "              precision    recall  f1-score   support\n",
      "\n",
      "           1       0.65      0.84      0.73       112\n",
      "           2       0.31      0.31      0.31        88\n",
      "           3       0.53      0.52      0.52       111\n",
      "           4       0.46      0.62      0.53       107\n",
      "           5       0.38      0.38      0.38       105\n",
      "           6       0.42      0.27      0.32        94\n",
      "           7       0.22      0.07      0.10        91\n",
      "           8       0.46      0.62      0.53        91\n",
      "\n",
      "    accuracy                           0.47       799\n",
      "   macro avg       0.43      0.45      0.43       799\n",
      "weighted avg       0.44      0.47      0.44       799\n",
      "\n"
     ]
    }
   ],
   "source": [
    "y_pred = forest_model.predict(x_test)\n",
    "print(classification_report(y_test,y_pred))"
   ]
  },
  {
   "cell_type": "markdown",
   "metadata": {},
   "source": [
    "## Quatrième méthode : Gradient Boosting"
   ]
  },
  {
   "cell_type": "code",
   "execution_count": 15,
   "metadata": {},
   "outputs": [
    {
     "data": {
      "text/plain": [
       "GradientBoostingClassifier(criterion='friedman_mse', init=None,\n",
       "                           learning_rate=0.1, loss='deviance', max_depth=3,\n",
       "                           max_features=None, max_leaf_nodes=None,\n",
       "                           min_impurity_decrease=0.0, min_impurity_split=None,\n",
       "                           min_samples_leaf=1, min_samples_split=2,\n",
       "                           min_weight_fraction_leaf=0.0, n_estimators=100,\n",
       "                           n_iter_no_change=None, presort='auto',\n",
       "                           random_state=None, subsample=1.0, tol=0.0001,\n",
       "                           validation_fraction=0.1, verbose=0,\n",
       "                           warm_start=False)"
      ]
     },
     "execution_count": 15,
     "metadata": {},
     "output_type": "execute_result"
    }
   ],
   "source": [
    "gradient_model = GradientBoostingClassifier()\n",
    "gradient_model.fit(x_train, y_train)"
   ]
  },
  {
   "cell_type": "code",
   "execution_count": 16,
   "metadata": {},
   "outputs": [
    {
     "name": "stdout",
     "output_type": "stream",
     "text": [
      "              precision    recall  f1-score   support\n",
      "\n",
      "           1       0.84      0.87      0.85       112\n",
      "           2       0.40      0.44      0.42        88\n",
      "           3       0.66      0.58      0.62       111\n",
      "           4       0.62      0.65      0.64       107\n",
      "           5       0.51      0.52      0.52       105\n",
      "           6       0.48      0.47      0.47        94\n",
      "           7       0.26      0.24      0.25        91\n",
      "           8       0.54      0.55      0.54        91\n",
      "\n",
      "    accuracy                           0.55       799\n",
      "   macro avg       0.54      0.54      0.54       799\n",
      "weighted avg       0.55      0.55      0.55       799\n",
      "\n"
     ]
    }
   ],
   "source": [
    "y_pred = gradient_model.predict(x_test)\n",
    "print(classification_report(y_test,y_pred))"
   ]
  },
  {
   "cell_type": "code",
   "execution_count": null,
   "metadata": {},
   "outputs": [],
   "source": [
    "\n",
    "# read in data\n",
    "dtrain = xgb.DMatrix('demo/data/agaricus.txt.train')\n",
    "dtest = xgb.DMatrix('demo/data/agaricus.txt.test')\n",
    "# specify parameters via map\n",
    "param = {'max_depth':2, 'eta':1, 'silent':1, 'objective':'binary:logistic' }\n",
    "num_round = 2\n",
    "bst = xgb.train(param, dtrain, num_round)\n",
    "# make prediction\n",
    "preds = bst.predict(dtest)\n"
   ]
  }
 ],
 "metadata": {
  "kernelspec": {
   "display_name": "Python 3",
   "language": "python",
   "name": "python3"
  },
  "language_info": {
   "codemirror_mode": {
    "name": "ipython",
    "version": 3
   },
   "file_extension": ".py",
   "mimetype": "text/x-python",
   "name": "python",
   "nbconvert_exporter": "python",
   "pygments_lexer": "ipython3",
   "version": "3.7.4"
  }
 },
 "nbformat": 4,
 "nbformat_minor": 2
}
